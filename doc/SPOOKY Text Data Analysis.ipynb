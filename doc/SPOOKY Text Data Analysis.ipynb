{
 "cells": [
  {
   "cell_type": "code",
   "execution_count": 6,
   "metadata": {
    "collapsed": true
   },
   "outputs": [],
   "source": [
    "#import libraries\n",
    "import pandas as pd\n",
    "import numpy as np\n",
    "import matplotlib.pyplot as plt\n",
    "#the following two lines come from https://medium.com/mlreview/topic-modeling-with-scikit-learn-e80d33668730\n",
    "from sklearn.feature_extraction.text import TfidfVectorizer,CountVectorizer\n",
    "from sklearn.decomposition import NMF,LatentDirichletAllocation"
   ]
  },
  {
   "cell_type": "markdown",
   "metadata": {},
   "source": [
    "# SPOOKY Text Data Analysis"
   ]
  },
  {
   "cell_type": "markdown",
   "metadata": {},
   "source": [
    "## Data Retrieval and Cleaning"
   ]
  },
  {
   "cell_type": "code",
   "execution_count": 7,
   "metadata": {
    "collapsed": false
   },
   "outputs": [],
   "source": [
    "spooky = pd.read_csv('..\\data\\spooky.csv', sep=',', header = 0)"
   ]
  },
  {
   "cell_type": "code",
   "execution_count": 8,
   "metadata": {
    "collapsed": false
   },
   "outputs": [
    {
     "data": {
      "text/html": [
       "<div>\n",
       "<style>\n",
       "    .dataframe thead tr:only-child th {\n",
       "        text-align: right;\n",
       "    }\n",
       "\n",
       "    .dataframe thead th {\n",
       "        text-align: left;\n",
       "    }\n",
       "\n",
       "    .dataframe tbody tr th {\n",
       "        vertical-align: top;\n",
       "    }\n",
       "</style>\n",
       "<table border=\"1\" class=\"dataframe\">\n",
       "  <thead>\n",
       "    <tr style=\"text-align: right;\">\n",
       "      <th></th>\n",
       "      <th>id</th>\n",
       "      <th>text</th>\n",
       "      <th>author</th>\n",
       "    </tr>\n",
       "  </thead>\n",
       "  <tbody>\n",
       "    <tr>\n",
       "      <th>0</th>\n",
       "      <td>id26305</td>\n",
       "      <td>This process, however, afforded me no means of...</td>\n",
       "      <td>EAP</td>\n",
       "    </tr>\n",
       "    <tr>\n",
       "      <th>1</th>\n",
       "      <td>id17569</td>\n",
       "      <td>It never once occurred to me that the fumbling...</td>\n",
       "      <td>HPL</td>\n",
       "    </tr>\n",
       "    <tr>\n",
       "      <th>2</th>\n",
       "      <td>id11008</td>\n",
       "      <td>In his left hand was a gold snuff box, from wh...</td>\n",
       "      <td>EAP</td>\n",
       "    </tr>\n",
       "    <tr>\n",
       "      <th>3</th>\n",
       "      <td>id27763</td>\n",
       "      <td>How lovely is spring As we looked from Windsor...</td>\n",
       "      <td>MWS</td>\n",
       "    </tr>\n",
       "    <tr>\n",
       "      <th>4</th>\n",
       "      <td>id12958</td>\n",
       "      <td>Finding nothing else, not even gold, the Super...</td>\n",
       "      <td>HPL</td>\n",
       "    </tr>\n",
       "  </tbody>\n",
       "</table>\n",
       "</div>"
      ],
      "text/plain": [
       "        id                                               text author\n",
       "0  id26305  This process, however, afforded me no means of...    EAP\n",
       "1  id17569  It never once occurred to me that the fumbling...    HPL\n",
       "2  id11008  In his left hand was a gold snuff box, from wh...    EAP\n",
       "3  id27763  How lovely is spring As we looked from Windsor...    MWS\n",
       "4  id12958  Finding nothing else, not even gold, the Super...    HPL"
      ]
     },
     "execution_count": 8,
     "metadata": {},
     "output_type": "execute_result"
    }
   ],
   "source": [
    "spooky.head()"
   ]
  },
  {
   "cell_type": "code",
   "execution_count": 9,
   "metadata": {
    "collapsed": false
   },
   "outputs": [
    {
     "data": {
      "text/plain": [
       "(19579, 3)"
      ]
     },
     "execution_count": 9,
     "metadata": {},
     "output_type": "execute_result"
    }
   ],
   "source": [
    "spooky.shape"
   ]
  },
  {
   "cell_type": "code",
   "execution_count": 10,
   "metadata": {
    "collapsed": false
   },
   "outputs": [],
   "source": [
    "eap = spooky.loc[spooky['author'] == 'EAP']\n",
    "hpl = spooky.loc[spooky['author'] == 'HPL']\n",
    "mws = spooky.loc[spooky['author'] == 'MWS']"
   ]
  },
  {
   "cell_type": "code",
   "execution_count": 11,
   "metadata": {
    "collapsed": false
   },
   "outputs": [
    {
     "data": {
      "image/png": "[encoded data removed]",
      "text/plain": [
       "<matplotlib.figure.Figure at 0x197fd955fd0>"
      ]
     },
     "metadata": {},
     "output_type": "display_data"
    }
   ],
   "source": [
    "a_names = ['EAP', 'HPL', 'MWS']\n",
    "y_pos = np.arange(len(a_names))\n",
    "num_sent = [len(eap),len(hpl),len(mws)]\n",
    " \n",
    "plt.bar(y_pos, num_sent, align='center', alpha=1)\n",
    "plt.xticks(y_pos, a_names)\n",
    "plt.xlabel('Author')\n",
    "plt.title('Number of Sentences')\n",
    " \n",
    "plt.show()"
   ]
  },
  {
   "cell_type": "markdown",
   "metadata": {},
   "source": [
    "### Sentiment Analysis"
   ]
  },
  {
   "cell_type": "code",
   "execution_count": null,
   "metadata": {
    "collapsed": true
   },
   "outputs": [],
   "source": [
    "# inspired by http://www.nltk.org/howto/sentiment.html\n",
    "#from nltk.classify import NaiveBayesClassifier\n",
    "#from nltk.corpus import subjectivity\n",
    "#from nltk.sentiment import SentimentAnalyzer"
   ]
  },
  {
   "cell_type": "code",
   "execution_count": 3,
   "metadata": {
    "collapsed": false
   },
   "outputs": [
    {
     "name": "stderr",
     "output_type": "stream",
     "text": [
      "C:\\Users\\David\\Anaconda3\\lib\\site-packages\\nltk\\twitter\\__init__.py:20: UserWarning: The twython library has not been installed. Some functionality from the twitter package will not be available.\n",
      "  warnings.warn(\"The twython library has not been installed. \"\n"
     ]
    }
   ],
   "source": [
    "import nltk\n",
    "from nltk.sentiment.vader import SentimentIntensityAnalyzer\n",
    "\n",
    "def avg_polar_score(sentences,sia):\n",
    "    '''Takes some sentences and a SentimentIntensityAnalyzer object and returns average of their polarity scores'''\n",
    "    n = sentences.size\n",
    "    scores = {\"neg\" : 0,\"neu\" : 0,\"pos\" : 0,\"compound\" : 0}\n",
    "    \n",
    "    for sentence in sentences:\n",
    "        \n",
    "        ss = sia.polarity_scores(sentence)\n",
    "        \n",
    "        for k in sorted(ss):\n",
    "            scores[k] += ss[k]\n",
    "    #print('{0}: {1}, '.format(k, ss[k]), end='')\n",
    "    for j in sorted(scores):\n",
    "        scores[j] = round((scores[j]/n),3)\n",
    "    \n",
    "    return(scores)"
   ]
  },
  {
   "cell_type": "code",
   "execution_count": 12,
   "metadata": {
    "collapsed": false
   },
   "outputs": [],
   "source": [
    "some_sia = []\n",
    "\n",
    "some_sia.append(avg_polar_score(eap.text.as_matrix(),SentimentIntensityAnalyzer()))\n",
    "some_sia.append(avg_polar_score(hpl.text.as_matrix(),SentimentIntensityAnalyzer()))\n",
    "some_sia.append(avg_polar_score(mws.text.as_matrix(),SentimentIntensityAnalyzer()))"
   ]
  },
  {
   "cell_type": "code",
   "execution_count": 26,
   "metadata": {
    "collapsed": false
   },
   "outputs": [
    {
     "name": "stdout",
     "output_type": "stream",
     "text": [
      "Edgar Allen Poe\n",
      "compound: 0.042, neg: 0.074, neu: 0.84, pos: 0.086, \n",
      "\n",
      "H.P. Lovecraft\n",
      "compound: -0.068, neg: 0.092, neu: 0.838, pos: 0.071, \n",
      "\n",
      "Mary Wolstencraft Shelly\n",
      "compound: 0.063, neg: 0.104, neu: 0.77, pos: 0.126, \n",
      "\n"
     ]
    }
   ],
   "source": [
    "author_names = ['Edgar Allen Poe','H.P. Lovecraft','Mary Wolstencraft Shelly']\n",
    "i = 0\n",
    "for dic in some_sia:\n",
    "    print(author_names[i])\n",
    "    i += 1\n",
    "    for k in sorted(dic):\n",
    "        print('{0}: {1}, '.format(k, dic[k]), end='')\n",
    "    print('\\n')"
   ]
  },
  {
   "cell_type": "code",
   "execution_count": 34,
   "metadata": {
    "collapsed": false
   },
   "outputs": [
    {
     "data": {
      "image/png": "[encoded data removed]",
      "text/plain": [
       "<matplotlib.figure.Figure at 0x19781d76748>"
      ]
     },
     "metadata": {},
     "output_type": "display_data"
    }
   ],
   "source": [
    "plt.figure(1)\n",
    "\n",
    "plt.subplot(131)\n",
    "sents = ['neg', 'neu', 'pos']\n",
    "y_pos = np.arange(len(sents))\n",
    "sent_scores = [.074, .84, .086]\n",
    "\n",
    "plt.ylim(0,.9)\n",
    "plt.bar(y_pos, sent_scores, align='center', alpha=1)\n",
    "plt.xticks(y_pos, sents)\n",
    "plt.xlabel('Sentiments')\n",
    "plt.title('EAP Sent Scores')\n",
    "\n",
    "plt.subplot(132)\n",
    "sents = ['neg', 'neu', 'pos']\n",
    "y_pos = np.arange(len(sents))\n",
    "sent_scores = [.092, .838, .071]\n",
    "\n",
    "plt.ylim(0,.9)\n",
    "plt.bar(y_pos, sent_scores, align='center', alpha=1)\n",
    "plt.xticks(y_pos, sents)\n",
    "plt.xlabel('Sentiments')\n",
    "plt.title('HPL Sent Scores')\n",
    "\n",
    "plt.subplot(133)\n",
    "sents = ['neg', 'neu', 'pos']\n",
    "y_pos = np.arange(len(sents))\n",
    "sent_scores = [.104, .77, .126]\n",
    "\n",
    "plt.ylim(0,.9)\n",
    "plt.bar(y_pos, sent_scores, align='center', alpha=1)\n",
    "plt.xticks(y_pos, sents)\n",
    "plt.xlabel('Sentiments')\n",
    "plt.title('MWS Sent Scores')\n",
    "\n",
    "plt.show()"
   ]
  },
  {
   "cell_type": "markdown",
   "metadata": {},
   "source": [
    "## Topic Modeling"
   ]
  },
  {
   "cell_type": "code",
   "execution_count": 14,
   "metadata": {
    "collapsed": false
   },
   "outputs": [],
   "source": [
    "#topic modeling code inspired by https://medium.com/mlreview/topic-modeling-with-scikit-learn-e80d33668730\n",
    "#the idea to compare lda and nmf was blantantly borrowed from the above post\n",
    "\n",
    "#intialize the vectorizers\n",
    "#this one is for lda\n",
    "tf_vectorizer = CountVectorizer(max_df=0.95, min_df=2, max_features=1000, stop_words='english')\n",
    "#below for nmf\n",
    "tfidf_vectorizer = TfidfVectorizer(max_df=0.95, min_df=2, max_features=1000, stop_words='english')"
   ]
  },
  {
   "cell_type": "code",
   "execution_count": 15,
   "metadata": {
    "collapsed": true
   },
   "outputs": [],
   "source": [
    "#clean data for nmf\n",
    "tfidf_eap = tfidf_vectorizer.fit_transform(eap.text)\n",
    "tfidf_feature_names_eap = tfidf_vectorizer.get_feature_names()\n",
    "\n",
    "tfidf_hpl = tfidf_vectorizer.fit_transform(hpl.text)\n",
    "tfidf_feature_names_hpl = tfidf_vectorizer.get_feature_names()\n",
    "\n",
    "tfidf_mws = tfidf_vectorizer.fit_transform(mws.text)\n",
    "tfidf_feature_names_mws = tfidf_vectorizer.get_feature_names()"
   ]
  },
  {
   "cell_type": "code",
   "execution_count": 16,
   "metadata": {
    "collapsed": true
   },
   "outputs": [],
   "source": [
    "#clean data for lda\n",
    "sent_clean = [[],[],[]]\n",
    "feature_names = [[],[],[]]\n",
    "t = 0\n",
    "for series in [eap.text,hpl.text,mws.text]:\n",
    "    tf = tf_vectorizer.fit_transform(series)\n",
    "    tf_feature_names = tf_vectorizer.get_feature_names()\n",
    "    \n",
    "    sent_clean[t] = tf\n",
    "    feature_names[t] = tf_feature_names\n",
    "    t = t + 1"
   ]
  },
  {
   "cell_type": "code",
   "execution_count": 17,
   "metadata": {
    "collapsed": true
   },
   "outputs": [],
   "source": [
    "#this is just for remebering where each author's senetecnes are\n",
    "eap_clean = sent_clean[0]\n",
    "hpl_clean = sent_clean[1]\n",
    "mws_clean = sent_clean[2]"
   ]
  },
  {
   "cell_type": "markdown",
   "metadata": {},
   "source": [
    "Some experimentation showed that 15 topics gave some plausible and helful results"
   ]
  },
  {
   "cell_type": "code",
   "execution_count": 18,
   "metadata": {
    "collapsed": false
   },
   "outputs": [],
   "source": [
    "n_top = 15"
   ]
  },
  {
   "cell_type": "code",
   "execution_count": 19,
   "metadata": {
    "collapsed": false
   },
   "outputs": [],
   "source": [
    "#Run lda for all the authors\n",
    "lda_eap = LatentDirichletAllocation(n_topics=n_top, max_iter=5, learning_method='online',learning_offset=50.,random_state=0).fit(eap_clean)\n",
    "\n",
    "lda_hpl = LatentDirichletAllocation(n_topics=n_top, max_iter=5, learning_method='online',learning_offset=50.,random_state=0).fit(hpl_clean)\n",
    "\n",
    "lda_mws = LatentDirichletAllocation(n_topics=n_top, max_iter=5, learning_method='online',learning_offset=50.,random_state=0).fit(mws_clean)"
   ]
  },
  {
   "cell_type": "code",
   "execution_count": 20,
   "metadata": {
    "collapsed": false
   },
   "outputs": [],
   "source": [
    "#Run nmf for all authors\n",
    "nmf_eap = NMF(n_components=n_top, random_state=1, alpha=.1, l1_ratio=.5, init='nndsvd').fit(tfidf_eap)\n",
    "\n",
    "nmf_hpl = NMF(n_components=n_top, random_state=1, alpha=.1, l1_ratio=.5, init='nndsvd').fit(tfidf_hpl)\n",
    "\n",
    "nmf_mws = NMF(n_components=n_top, random_state=1, alpha=.1, l1_ratio=.5, init='nndsvd').fit(tfidf_mws)"
   ]
  },
  {
   "cell_type": "code",
   "execution_count": 21,
   "metadata": {
    "collapsed": false
   },
   "outputs": [],
   "source": [
    "#this cell from https://medium.com/mlreview/topic-modeling-with-scikit-learn-e80d33668730\n",
    "def display_topics(model, feature_names, no_top_words):\n",
    "    for topic_idx, topic in enumerate(model.components_):\n",
    "        print(\"%d:\" % (topic_idx))\n",
    "        s = ' '\n",
    "        print(s.join([feature_names[i] for i in topic.argsort()[:-no_top_words - 1:-1]]))"
   ]
  },
  {
   "cell_type": "code",
   "execution_count": 27,
   "metadata": {
    "collapsed": false
   },
   "outputs": [
    {
     "name": "stdout",
     "output_type": "stream",
     "text": [
      "0:\n",
      "light strength thought wish lived power stood\n",
      "1:\n",
      "man soon great length high desire danger\n",
      "2:\n",
      "life death time men father gave look\n",
      "3:\n",
      "day let know sun present happy hear\n",
      "4:\n",
      "raymond perdita eyes make entered tears rose\n",
      "5:\n",
      "love old hope long voice despair man\n",
      "6:\n",
      "air sea happiness country hand england thoughts\n",
      "7:\n",
      "said world friend adrian mother good sister\n",
      "8:\n",
      "earth nature felt near friends die place\n",
      "9:\n",
      "change looked fear years lovely spoke evil\n",
      "10:\n",
      "house began thy went filled door thou\n",
      "11:\n",
      "night saw return appeared elizabeth heard strange\n",
      "12:\n",
      "mind did passed feelings life days misery\n",
      "13:\n",
      "father come end little left cried led\n",
      "14:\n",
      "shall heart words feel soul human joy\n"
     ]
    }
   ],
   "source": [
    "display_topics(lda_mws,feature_names[2],7)"
   ]
  },
  {
   "cell_type": "code",
   "execution_count": 28,
   "metadata": {
    "collapsed": false
   },
   "outputs": [
    {
     "name": "stdout",
     "output_type": "stream",
     "text": [
      "0:\n",
      "eyes father saw like tears thought mind\n",
      "1:\n",
      "raymond lord replied secret lost room gave\n",
      "2:\n",
      "love let sympathy gratitude affection greece gentle\n",
      "3:\n",
      "did appear understand come know return pass\n",
      "4:\n",
      "life existence alas hope lost new feeling\n",
      "5:\n",
      "said dear better present best friend companion\n",
      "6:\n",
      "day night passed sun following hour close\n",
      "7:\n",
      "man old world young nature earth creation\n",
      "8:\n",
      "shall true die know make appear feel\n",
      "9:\n",
      "time long mean spent short greece come\n",
      "10:\n",
      "perdita mentioned evadne child length joined account\n",
      "11:\n",
      "adrian idris promised visit sister health feared\n",
      "12:\n",
      "heart remorse soul fear grief despair filled\n",
      "13:\n",
      "years passed age nearly old lived early\n",
      "14:\n",
      "death fear disease words dead oh evil\n"
     ]
    }
   ],
   "source": [
    "display_topics(nmf_mws,tfidf_feature_names_mws,7)"
   ]
  },
  {
   "cell_type": "markdown",
   "metadata": {},
   "source": [
    "### Visualizing the Topics"
   ]
  },
  {
   "cell_type": "code",
   "execution_count": 108,
   "metadata": {
    "collapsed": false
   },
   "outputs": [],
   "source": [
    "from __future__ import print_function\n",
    "import pyLDAvis\n",
    "import pyLDAvis.sklearn\n",
    "pyLDAvis.enable_notebook()"
   ]
  },
  {
   "cell_type": "code",
   "execution_count": 111,
   "metadata": {
    "collapsed": false
   },
   "outputs": [
    {
     "data": {
      "text/plain": [
       "LatentDirichletAllocation(batch_size=128, doc_topic_prior=None,\n",
       "             evaluate_every=-1, learning_decay=0.7,\n",
       "             learning_method='online', learning_offset=50.0,\n",
       "             max_doc_update_iter=100, max_iter=5, mean_change_tol=0.001,\n",
       "             n_jobs=1, n_topics=15, perp_tol=0.1, random_state=0,\n",
       "             topic_word_prior=None, total_samples=1000000.0, verbose=0)"
      ]
     },
     "execution_count": 111,
     "metadata": {},
     "output_type": "execute_result"
    }
   ],
   "source": [
    "# inspired by http://nbviewer.jupyter.org/github/bmabey/pyLDAvis/blob/master/notebooks/sklearn.ipynb\n",
    "dtm_tf_eap = tf_vectorizer.fit_transform(eap.text)\n",
    "lda_eap.fit(dtm_tf_eap)"
   ]
  },
  {
   "cell_type": "code",
   "execution_count": 113,
   "metadata": {
    "collapsed": false
   },
   "outputs": [
    {
     "data": {
      "text/html": [
       "\n",
       "<link rel=\"stylesheet\" type=\"text/css\" href=\"https://cdn.rawgit.com/bmabey/pyLDAvis/files/ldavis.v1.0.0.css\">\n",
       "\n",
       "\n",
       "<div id=\"ldavis_el2047217523009600489776206184\"></div>\n",
       "<script type=\"text/javascript\">\n",
       "\n",
       "var ldavis_el2047217523009600489776206184_data = {\"mdsDat\": {\"Freq\": [10.188440329122775, 7.858090614696891, 7.752683329838436, 7.028310635955451, 6.936625077453695, 6.936236425330194, 6.5533657554966, 6.52621045927854, 6.523457440747933, 6.1045776956706685, 5.9916092387193345, 5.6616711605891945, 5.571071852092143, 5.48709291307762, 4.88055707193054], \"cluster\": [1, 1, 1, 1, 1, 1, 1, 1, 1, 1, 1, 1, 1, 1, 1], \"topics\": [1, 2, 3, 4, 5, 6, 7, 8, 9, 10, 11, 12, 13, 14, 15], \"x\": [-0.14503575340712296, 0.12341557596618774, -0.15226677711333544, -0.04743896632145881, 0.18512821009201144, 0.10512874516032618, -0.16862685683566989, -0.2129285098165986, 0.17419561016495957, 0.00600812411957892, 0.15413322217794861, -0.009239384438050818, 0.06519472405821711, -0.0030221461823176604, -0.07464581762467531], \"y\": [-0.1665488643995073, -0.06458139505560061, -0.10747839474022637, -0.04752882595729797, -0.1423995786078676, -0.09180795130211868, -0.04096374841187009, -0.04529982106787598, -0.12732852353932753, 0.01697314694572022, 0.10489993667394527, 0.13704663460634312, 0.12960755189073522, 0.2321764829175346, 0.213233350047414]}, \"tinfo\": {\"Category\": [\"Default\", \"Default\", \"Default\", \"Default\", \"Default\", \"Default\", \"Default\", \"Default\", \"Default\", \"Default\", \"Default\", \"Default\", \"Default\", \"Default\", \"Default\", \"Default\", \"Default\", \"Default\", \"Default\", \"Default\", \"Default\", \"Default\", \"Default\", \"Default\", \"Default\", \"Default\", \"Default\", \"Default\", \"Default\", \"Default\", \"Topic1\", \"Topic1\", \"Topic1\", \"Topic1\", \"Topic1\", \"Topic1\", \"Topic1\", \"Topic1\", \"Topic1\", \"Topic1\", \"Topic1\", \"Topic1\", \"Topic1\", \"Topic1\", \"Topic1\", \"Topic1\", \"Topic1\", \"Topic1\", \"Topic1\", \"Topic1\", \"Topic1\", \"Topic1\", \"Topic1\", \"Topic1\", \"Topic1\", \"Topic1\", \"Topic1\", \"Topic1\", \"Topic1\", \"Topic1\", \"Topic1\", \"Topic1\", \"Topic1\", \"Topic1\", \"Topic1\", \"Topic1\", \"Topic1\", \"Topic1\", \"Topic1\", \"Topic1\", \"Topic1\", \"Topic1\", \"Topic1\", \"Topic1\", \"Topic1\", \"Topic1\", \"Topic1\", \"Topic1\", \"Topic1\", \"Topic2\", \"Topic2\", \"Topic2\", \"Topic2\", \"Topic2\", \"Topic2\", \"Topic2\", \"Topic2\", \"Topic2\", \"Topic2\", \"Topic2\", \"Topic2\", \"Topic2\", \"Topic2\", \"Topic2\", \"Topic2\", \"Topic2\", \"Topic2\", \"Topic2\", \"Topic2\", \"Topic2\", \"Topic2\", \"Topic2\", \"Topic2\", \"Topic2\", \"Topic2\", \"Topic2\", \"Topic2\", \"Topic2\", \"Topic2\", \"Topic2\", \"Topic2\", \"Topic2\", \"Topic2\", \"Topic2\", \"Topic2\", \"Topic2\", \"Topic2\", \"Topic2\", \"Topic2\", \"Topic2\", \"Topic2\", \"Topic2\", \"Topic2\", \"Topic2\", \"Topic2\", \"Topic3\", \"Topic3\", \"Topic3\", \"Topic3\", \"Topic3\", \"Topic3\", \"Topic3\", \"Topic3\", \"Topic3\", \"Topic3\", \"Topic3\", \"Topic3\", \"Topic3\", \"Topic3\", \"Topic3\", \"Topic3\", \"Topic3\", \"Topic3\", \"Topic3\", \"Topic3\", \"Topic3\", \"Topic3\", \"Topic3\", \"Topic3\", \"Topic3\", \"Topic3\", \"Topic3\", \"Topic3\", \"Topic3\", \"Topic3\", \"Topic3\", \"Topic3\", \"Topic3\", \"Topic3\", \"Topic3\", \"Topic3\", \"Topic3\", \"Topic3\", \"Topic3\", \"Topic3\", \"Topic3\", \"Topic3\", \"Topic3\", \"Topic3\", \"Topic3\", \"Topic3\", \"Topic4\", \"Topic4\", \"Topic4\", \"Topic4\", \"Topic4\", \"Topic4\", \"Topic4\", \"Topic4\", \"Topic4\", \"Topic4\", \"Topic4\", \"Topic4\", \"Topic4\", \"Topic4\", \"Topic4\", \"Topic4\", \"Topic4\", \"Topic4\", \"Topic4\", \"Topic4\", \"Topic4\", \"Topic4\", \"Topic4\", \"Topic4\", \"Topic4\", \"Topic4\", \"Topic4\", \"Topic4\", \"Topic4\", \"Topic4\", \"Topic4\", \"Topic4\", \"Topic4\", \"Topic4\", \"Topic4\", \"Topic4\", \"Topic4\", \"Topic4\", \"Topic4\", \"Topic4\", \"Topic5\", \"Topic5\", \"Topic5\", \"Topic5\", \"Topic5\", \"Topic5\", \"Topic5\", \"Topic5\", \"Topic5\", \"Topic5\", \"Topic5\", \"Topic5\", \"Topic5\", \"Topic5\", \"Topic5\", \"Topic5\", \"Topic5\", \"Topic5\", \"Topic5\", \"Topic5\", \"Topic5\", \"Topic5\", \"Topic5\", \"Topic5\", \"Topic5\", \"Topic5\", \"Topic5\", \"Topic5\", \"Topic5\", \"Topic5\", \"Topic5\", \"Topic5\", \"Topic5\", \"Topic5\", \"Topic5\", \"Topic5\", \"Topic5\", \"Topic5\", \"Topic5\", \"Topic5\", \"Topic5\", \"Topic5\", \"Topic5\", \"Topic5\", \"Topic5\", \"Topic6\", \"Topic6\", \"Topic6\", \"Topic6\", \"Topic6\", \"Topic6\", \"Topic6\", \"Topic6\", \"Topic6\", \"Topic6\", \"Topic6\", \"Topic6\", \"Topic6\", \"Topic6\", \"Topic6\", \"Topic6\", \"Topic6\", \"Topic6\", \"Topic6\", \"Topic6\", \"Topic6\", \"Topic6\", \"Topic6\", \"Topic6\", \"Topic6\", \"Topic6\", \"Topic6\", \"Topic6\", \"Topic6\", \"Topic6\", \"Topic6\", \"Topic6\", \"Topic6\", \"Topic6\", \"Topic6\", \"Topic6\", \"Topic6\", \"Topic6\", \"Topic6\", \"Topic6\", \"Topic6\", \"Topic7\", \"Topic7\", \"Topic7\", \"Topic7\", \"Topic7\", \"Topic7\", \"Topic7\", \"Topic7\", \"Topic7\", \"Topic7\", \"Topic7\", \"Topic7\", \"Topic7\", \"Topic7\", \"Topic7\", \"Topic7\", \"Topic7\", \"Topic7\", \"Topic7\", \"Topic7\", \"Topic7\", \"Topic7\", \"Topic7\", \"Topic7\", \"Topic7\", \"Topic7\", \"Topic7\", \"Topic7\", \"Topic7\", \"Topic7\", \"Topic7\", \"Topic7\", \"Topic7\", \"Topic7\", \"Topic7\", \"Topic7\", \"Topic7\", \"Topic7\", \"Topic7\", \"Topic8\", \"Topic8\", \"Topic8\", \"Topic8\", \"Topic8\", \"Topic8\", \"Topic8\", \"Topic8\", \"Topic8\", \"Topic8\", \"Topic8\", \"Topic8\", \"Topic8\", \"Topic8\", \"Topic8\", \"Topic8\", \"Topic8\", \"Topic8\", \"Topic8\", \"Topic8\", \"Topic8\", \"Topic8\", \"Topic8\", \"Topic8\", \"Topic8\", \"Topic8\", \"Topic8\", \"Topic8\", \"Topic8\", \"Topic8\", \"Topic8\", \"Topic8\", \"Topic8\", \"Topic8\", \"Topic8\", \"Topic8\", \"Topic8\", \"Topic8\", \"Topic8\", \"Topic8\", \"Topic8\", \"Topic8\", \"Topic9\", \"Topic9\", \"Topic9\", \"Topic9\", \"Topic9\", \"Topic9\", \"Topic9\", \"Topic9\", \"Topic9\", \"Topic9\", \"Topic9\", \"Topic9\", \"Topic9\", \"Topic9\", \"Topic9\", \"Topic9\", \"Topic9\", \"Topic9\", \"Topic9\", \"Topic9\", \"Topic9\", \"Topic9\", \"Topic9\", \"Topic9\", \"Topic9\", \"Topic9\", \"Topic9\", \"Topic9\", \"Topic9\", \"Topic9\", \"Topic9\", \"Topic9\", \"Topic9\", \"Topic9\", \"Topic9\", \"Topic9\", \"Topic9\", \"Topic9\", \"Topic9\", \"Topic9\", \"Topic10\", \"Topic10\", \"Topic10\", \"Topic10\", \"Topic10\", \"Topic10\", \"Topic10\", \"Topic10\", \"Topic10\", \"Topic10\", \"Topic10\", \"Topic10\", \"Topic10\", \"Topic10\", \"Topic10\", \"Topic10\", \"Topic10\", \"Topic10\", \"Topic10\", \"Topic10\", \"Topic10\", \"Topic10\", \"Topic10\", \"Topic10\", \"Topic10\", \"Topic10\", \"Topic10\", \"Topic10\", \"Topic10\", \"Topic10\", \"Topic10\", \"Topic10\", \"Topic10\", \"Topic10\", \"Topic10\", \"Topic10\", \"Topic10\", \"Topic10\", \"Topic10\", \"Topic11\", \"Topic11\", \"Topic11\", \"Topic11\", \"Topic11\", \"Topic11\", \"Topic11\", \"Topic11\", \"Topic11\", \"Topic11\", \"Topic11\", \"Topic11\", \"Topic11\", \"Topic11\", \"Topic11\", \"Topic11\", \"Topic11\", \"Topic11\", \"Topic11\", \"Topic11\", \"Topic11\", \"Topic11\", \"Topic11\", \"Topic11\", \"Topic11\", \"Topic11\", \"Topic11\", \"Topic11\", \"Topic11\", \"Topic11\", \"Topic11\", \"Topic11\", \"Topic11\", \"Topic11\", \"Topic11\", \"Topic11\", \"Topic11\", \"Topic11\", \"Topic11\", \"Topic12\", \"Topic12\", \"Topic12\", \"Topic12\", \"Topic12\", \"Topic12\", \"Topic12\", \"Topic12\", \"Topic12\", \"Topic12\", \"Topic12\", \"Topic12\", \"Topic12\", \"Topic12\", \"Topic12\", \"Topic12\", \"Topic12\", \"Topic12\", \"Topic12\", \"Topic12\", \"Topic12\", \"Topic12\", \"Topic12\", \"Topic12\", \"Topic12\", \"Topic12\", \"Topic12\", \"Topic12\", \"Topic12\", \"Topic12\", \"Topic12\", \"Topic12\", \"Topic12\", \"Topic12\", \"Topic12\", \"Topic12\", \"Topic12\", \"Topic13\", \"Topic13\", \"Topic13\", \"Topic13\", \"Topic13\", \"Topic13\", \"Topic13\", \"Topic13\", \"Topic13\", \"Topic13\", \"Topic13\", \"Topic13\", \"Topic13\", \"Topic13\", \"Topic13\", \"Topic13\", \"Topic13\", \"Topic13\", \"Topic13\", \"Topic13\", \"Topic13\", \"Topic13\", \"Topic13\", \"Topic13\", \"Topic13\", \"Topic13\", \"Topic13\", \"Topic13\", \"Topic13\", \"Topic13\", \"Topic13\", \"Topic13\", \"Topic13\", \"Topic13\", \"Topic13\", \"Topic13\", \"Topic13\", \"Topic13\", \"Topic13\", \"Topic13\", \"Topic13\", \"Topic13\", \"Topic14\", \"Topic14\", \"Topic14\", \"Topic14\", \"Topic14\", \"Topic14\", \"Topic14\", \"Topic14\", \"Topic14\", \"Topic14\", \"Topic14\", \"Topic14\", \"Topic14\", \"Topic14\", \"Topic14\", \"Topic14\", \"Topic14\", \"Topic14\", \"Topic14\", \"Topic14\", \"Topic14\", \"Topic14\", \"Topic14\", \"Topic14\", \"Topic14\", \"Topic14\", \"Topic14\", \"Topic14\", \"Topic14\", \"Topic14\", \"Topic14\", \"Topic14\", \"Topic14\", \"Topic14\", \"Topic14\", \"Topic14\", \"Topic14\", \"Topic14\", \"Topic15\", \"Topic15\", \"Topic15\", \"Topic15\", \"Topic15\", \"Topic15\", \"Topic15\", \"Topic15\", \"Topic15\", \"Topic15\", \"Topic15\", \"Topic15\", \"Topic15\", \"Topic15\", \"Topic15\", \"Topic15\", \"Topic15\", \"Topic15\", \"Topic15\", \"Topic15\", \"Topic15\", \"Topic15\", \"Topic15\", \"Topic15\", \"Topic15\", \"Topic15\", \"Topic15\", \"Topic15\", \"Topic15\", \"Topic15\", \"Topic15\", \"Topic15\", \"Topic15\", \"Topic15\", \"Topic15\", \"Topic15\", \"Topic15\", \"Topic15\"], \"Freq\": [273.0, 336.0, 181.0, 194.0, 172.0, 259.0, 260.0, 171.0, 251.0, 160.0, 142.0, 138.0, 204.0, 213.0, 171.0, 127.0, 139.0, 128.0, 183.0, 126.0, 131.0, 115.0, 114.0, 115.0, 127.0, 114.0, 108.0, 122.0, 106.0, 136.0, 115.93535330158277, 111.56728593582335, 77.97653157479314, 60.62052148532047, 59.68884973707455, 124.70439597061545, 56.041410246029784, 41.86189097446461, 39.50300234544912, 40.05106848754578, 38.71099915121529, 35.38856813023854, 34.73128503786671, 32.4845409437662, 31.516993870789864, 30.477789202002416, 28.46206226400289, 25.846204136645333, 26.008017109265243, 25.393509517063883, 25.741128672744736, 23.308846994608988, 23.52861011932979, 22.992570839274133, 22.64388711554505, 21.57934934246243, 21.524751830456005, 21.251548239252227, 20.897143503065628, 20.81964575422449, 93.03526495080378, 212.73187228252476, 23.766550755101395, 80.7835454584208, 146.88511376171743, 162.04395826568953, 42.089160614070984, 98.08350470912941, 33.307042515053325, 38.75894858142032, 36.89178215960286, 67.80468767645606, 38.409782597973646, 85.29390545187844, 39.66625404809604, 42.84136903344027, 36.24540023512969, 36.97952881422227, 40.20247762539321, 126.27405246130695, 76.00810499233253, 57.77067032671505, 55.938423241981695, 55.24102965181894, 53.37310039477869, 48.914405144166025, 47.19455285761891, 46.32686233722835, 42.27368692535509, 41.20340344123318, 40.37732009297908, 35.69231453259677, 36.21984897829537, 33.08236384849525, 29.94982596989901, 28.622062921290304, 26.177005003382362, 25.151705041847052, 24.73130106084643, 24.837107875408666, 24.405387010560847, 23.54766395907841, 23.010928805899592, 21.646387005597195, 21.596555332609462, 20.628956150746067, 20.494179089275747, 20.460047357442463, 20.168308765772583, 26.996081097184266, 162.16404645903748, 66.23315691191566, 80.62709579302363, 42.97492726580519, 77.01716188591466, 81.0895745013737, 44.19426914806184, 43.09818295287181, 34.96046884482715, 49.190040419936466, 36.9090695059891, 41.08086442735986, 54.873612410543345, 35.03826161116747, 40.86711760514491, 138.13488566590155, 130.28669895901834, 104.05548536870383, 74.36257295399761, 81.68535904382325, 58.42605631273117, 48.03438925979389, 46.901781253025725, 45.17758319778255, 41.80631331576381, 38.259416100068194, 35.17427808270989, 34.62864723591326, 33.41776756661106, 31.735999231431748, 30.203532294216284, 28.558623752632773, 26.87088790150594, 25.915162027982472, 25.709773179660473, 23.689392107465746, 23.548804664543862, 23.364896461145367, 22.07141207939749, 21.411058147029344, 21.339261114588005, 22.534789998937885, 65.618942942454, 20.26053362807067, 20.07810656141341, 20.286487581811414, 146.33714155697686, 90.07285195802766, 76.83396368416689, 50.27736929504105, 42.9066260902118, 58.94602552115876, 73.93621382128536, 100.75137541685227, 73.71675834971042, 36.22978865199986, 33.55158932886988, 39.68429942637743, 33.441896447173825, 41.469697452445324, 32.23783686371509, 98.68973536018511, 90.8173463599796, 65.63637182473887, 62.500680248972834, 61.37875048450119, 64.7576711796845, 60.848885243956076, 52.98021369641489, 51.41859111912818, 51.49221536021604, 49.99638125417553, 46.49844248310559, 38.53408131961232, 36.176559792516514, 35.289534697972215, 29.734690721431864, 28.230295654039498, 26.585330972738824, 25.7495124337702, 25.6840510101526, 25.293243997792594, 25.39529673053082, 24.420624701129107, 24.103972102813152, 23.901082501058692, 23.430778517429857, 23.540618670098056, 23.04913087054358, 22.791826836865646, 22.586064415592173, 115.96188112201965, 60.306159847006164, 180.64952942925262, 61.39806123268299, 24.2687656249602, 41.95217304999716, 32.28362082811334, 42.88030072202598, 35.84920323244235, 30.688238728277813, 89.69092494502189, 89.19649643511927, 67.31578806124224, 50.463186401582924, 48.21142048950822, 45.06597617120613, 40.76699770995053, 36.97311444193345, 53.41838526416664, 29.99600390187167, 28.922526423976187, 27.56355246269292, 26.6582400357073, 25.822862132377423, 25.17651160871452, 24.720410441765775, 23.759735288424363, 23.861534025323596, 22.731645016955504, 22.44420449626541, 22.173393724256727, 22.13407123463945, 21.86499846337027, 20.50498453371644, 20.403645868732987, 19.561525575104035, 19.121551268900255, 18.92203345310703, 18.79237343883241, 25.81426502696722, 66.59378219360913, 29.58595048213488, 225.22250139202674, 175.54458434479272, 85.26533752747368, 40.72992214381754, 62.56220925457801, 49.31625088957453, 49.83574287944626, 47.18954069736739, 36.062207167605195, 50.4150700096865, 34.40502294430703, 29.114045852889763, 49.60302288340645, 193.24180919855658, 96.4351368947443, 106.03891115846548, 75.27865008033011, 57.90272600578683, 53.82157953660645, 62.34820459608949, 267.307121250608, 50.38910797997497, 36.381669788027, 36.060449741474905, 35.55771282997962, 33.17173049828966, 31.259032966289396, 34.979199836914724, 28.105101058634784, 26.831616807872585, 26.349882711526895, 28.874831800571386, 25.570165101808602, 25.361369407202105, 24.992711232070164, 23.815743014061365, 23.6238068109133, 23.55707880712872, 22.112244453980114, 21.6161138463797, 21.10914489921206, 21.043147975490207, 20.976751468087514, 44.753409234451155, 32.772288918476725, 70.38693363298913, 35.13383938912536, 39.48223737511238, 73.73020082684305, 29.71841308479066, 27.174706286363165, 49.146584140150566, 25.890341191489483, 25.803528901088495, 170.95744861515104, 86.99464479798365, 80.5166000764625, 79.19102165814166, 65.55242841092867, 72.0140478010125, 61.91664795344702, 61.580169792883524, 57.35476176182227, 39.47424378901313, 37.62616462918493, 37.92449779749209, 35.639017202174, 35.52826773134031, 35.35139367912942, 33.43102316798958, 32.892670714008354, 42.47644601857415, 31.870325129002712, 31.511823412846294, 30.579347497796356, 30.580573016153558, 26.838476125401815, 26.408524347286992, 25.564075810581674, 25.179329550722564, 23.619975307754565, 23.56345679403678, 24.50788736998805, 21.416708323283054, 73.56191799853625, 39.88257011203205, 56.72463267764753, 83.47272748097639, 34.61560171935326, 65.39079256312183, 39.24295557156623, 45.42409401657178, 30.96948238846525, 127.4181851162558, 125.23849793515298, 105.9159389131357, 101.53481597485455, 65.31603489155299, 62.263667358047144, 61.67098993400881, 56.39919037348756, 54.071243241725576, 50.64426176253179, 47.64628121296344, 42.97257893320319, 40.49935652802688, 35.6542491841117, 35.087781645594596, 31.924005663480187, 30.88837501481965, 25.18697544370813, 24.99445350237304, 24.279613702822402, 24.076676396280508, 23.433384295797197, 23.365116898047972, 23.56804871089307, 22.085789069477723, 21.136019265447686, 20.60198151716101, 20.575770734828502, 19.069780625115904, 19.496103945238595, 78.35365974413439, 100.95541262211094, 61.27874651710393, 95.40759896795834, 55.646132620077935, 54.43604214339137, 42.92887013964062, 47.42964915326475, 46.176928730130776, 37.33946334954195, 37.993485828374084, 28.07610520727323, 113.58259784151076, 95.65010566047006, 75.8620081651035, 67.55947419869567, 63.11304311569616, 62.81732321603013, 57.253723812066426, 54.61658845051709, 53.64340673609536, 51.81621299955396, 50.75803550465217, 48.44051782546209, 46.52871791367726, 46.954422423451, 81.06282750952239, 31.26329182993054, 28.647379058855762, 27.34476079679828, 25.92976207984121, 25.357489010885097, 25.121337256924512, 24.719876809023997, 24.874547991114532, 24.84564459106167, 23.70723729507687, 23.708970158238202, 23.62771258896353, 23.193829862708345, 23.369131309705665, 22.32504913957637, 98.5566995134362, 99.8190297951686, 62.49123452606513, 38.45913156188222, 48.41664810306463, 25.484360341004038, 27.30228628142375, 42.124592093285784, 29.055293181588862, 25.662610641959883, 171.50266027421094, 114.07502352820966, 114.24895644976357, 78.25822719487077, 67.70066371115136, 62.39068183437789, 61.56634463072945, 53.315888053064974, 48.7518124366781, 48.125379541629265, 41.477312381323976, 41.3142076331806, 39.59320094117019, 37.93254115984945, 33.28278913526256, 32.702993812600404, 29.496279075163002, 28.6214437406712, 31.90964055159937, 28.29711279565489, 29.050900164596698, 26.637378157782436, 26.39608538706952, 27.23956051385862, 25.263479028924557, 25.116425071916012, 24.7172996871728, 24.791636115202326, 24.49651903824352, 23.32022815093089, 26.154154951777222, 54.35511633796037, 65.5925175452845, 84.5113125079081, 44.172908608080725, 41.74691944725403, 27.256284267831777, 31.180835610405563, 29.07331836087853, 137.53659477151783, 108.00691117983028, 85.74967465991446, 68.33906065499681, 66.9555122196815, 61.62758403002984, 113.90911263472364, 50.81419471301423, 50.26729011268468, 44.83307087490192, 37.59871457733808, 36.63681733002222, 35.766748330454206, 35.669320079339094, 37.123658761573424, 33.56939134988014, 30.303706885238174, 29.825515103841642, 28.372999088838117, 27.60841848101955, 26.385630192134713, 25.69117674978597, 24.799074847848086, 24.563810465400437, 24.074888964807254, 23.275469641697935, 22.853708225062242, 21.928545842435366, 20.3656489590507, 19.707204367056804, 26.228822167139988, 27.272390857371754, 84.23168310207446, 39.4182842731708, 41.6169078614418, 26.649469293467604, 31.93007127981434, 50.128666782654115, 27.863651262985808, 180.82282104628018, 97.89668821362307, 90.03105417305312, 71.119808331279, 68.37266024434128, 53.07821905542172, 77.04325547477148, 50.68983601774859, 42.920402340645616, 42.44934732083744, 41.93964136117235, 36.35959254355302, 34.07892288966308, 32.10906101297366, 32.057981473436456, 31.44487217252375, 30.98585210071391, 30.28081575314045, 31.3351519700768, 28.824121346140206, 28.28878559900131, 27.718014115821944, 26.536850238058012, 24.39271998922071, 24.00119736471416, 23.529675680056567, 22.646236973059086, 22.299356158658522, 21.977008662323346, 21.57135008253795, 54.720344232938224, 55.17949842771048, 34.41246264423004, 56.986003007313485, 28.776083632180484, 29.25448144552856, 25.845504029314437, 159.74954907008896, 85.04186137141203, 80.92812804439396, 71.47482618714301, 47.31502462458661, 47.59470356680464, 46.76589177079039, 47.45863374049202, 41.56176457318577, 40.288067825843676, 36.95270186194124, 36.4748728611016, 31.25073151624745, 29.196212746623928, 27.012009729911266, 29.140307072263855, 25.59944353784378, 36.9992019755972, 24.996418147131998, 23.913124876842954, 23.513571428357928, 23.356080968917876, 22.82946061603514, 21.94550127604786, 21.829027141160775, 21.403583964858328, 21.202991636090168, 27.47347123938685, 20.349769282826546, 20.32535665427308, 26.63152485924795, 47.30726826114573, 26.66073453143554, 73.39534087725306, 45.72073044553879, 61.815141285738875, 34.45052196902243, 35.509909047225065, 26.927420645323874, 30.799204432356234, 28.014681304338776, 27.534649697226364, 126.45880921971471, 55.77209377740638, 44.15560887263873, 41.710027932294665, 41.93207027636845, 39.77715631237261, 38.87395507514127, 36.10208755998891, 35.55955907785846, 35.07901244953511, 34.08111235459557, 33.82365294455803, 35.08239304023159, 34.09506251263013, 31.230910801611103, 30.883320896243458, 30.246734474050847, 29.347681946734358, 27.90832818689264, 27.725603881209114, 26.840377457048287, 26.526655766846616, 26.029494459793003, 25.414660495549185, 24.63880657140821, 36.99181225080483, 23.500194987082416, 23.237495758153546, 22.630795058076522, 21.865453210907884, 21.991107877238626, 50.69368369002883, 74.76276718330479, 33.042505292654155, 68.18175419687996, 34.94226124050934, 27.808492781950314, 27.50494612368151, 141.13780207168088, 64.63708097525338, 60.00230920252993, 57.998350109576705, 54.88763146854431, 54.11303881989298, 53.9515026099982, 53.96684439850667, 67.48279156360775, 38.13607496393946, 36.602589645912374, 36.41697994758194, 34.22908587512033, 33.14609923976539, 32.4066619474653, 31.2994798940112, 31.04792671464172, 40.10354641295319, 25.96931908121938, 25.429706688147387, 25.077371097883542, 25.114510438040593, 24.71195145687884, 23.983534539380916, 22.937018435914037, 22.84502685801815, 20.260319585975893, 20.142661943179455, 19.922649333294085, 19.498628842980303, 32.055880553406595, 21.773622634112336, 34.21342355679291, 33.012677490698884, 28.396084647897233, 47.74898585631935, 31.74797704394126, 35.89832307548274], \"Term\": [\"little\", \"said\", \"length\", \"did\", \"thought\", \"time\", \"say\", \"mr\", \"man\", \"head\", \"thing\", \"let\", \"long\", \"great\", \"day\", \"course\", \"good\", \"mind\", \"having\", \"shall\", \"just\", \"fact\", \"door\", \"words\", \"came\", \"general\", \"manner\", \"make\", \"life\", \"old\", \"saw\", \"feet\", \"half\", \"deep\", \"passed\", \"hand\", \"gentleman\", \"remember\", \"feel\", \"height\", \"placed\", \"step\", \"easily\", \"presence\", \"sentiment\", \"greater\", \"dream\", \"pain\", \"led\", \"visible\", \"measure\", \"et\", \"articles\", \"pleasure\", \"glance\", \"dear\", \"dreams\", \"situation\", \"forthwith\", \"sweet\", \"took\", \"man\", \"woman\", \"years\", \"having\", \"great\", \"remained\", \"night\", \"work\", \"shadow\", \"proceeded\", \"nearly\", \"entire\", \"way\", \"beneath\", \"position\", \"god\", \"hour\", \"old\", \"came\", \"appeared\", \"suddenly\", \"power\", \"state\", \"come\", \"lost\", \"entirely\", \"sound\", \"family\", \"book\", \"principle\", \"meantime\", \"self\", \"mystery\", \"pocket\", \"conversation\", \"action\", \"brain\", \"comprehend\", \"pass\", \"important\", \"departed\", \"lollipop\", \"rays\", \"intervals\", \"consideration\", \"letters\", \"mode\", \"deposited\", \"money\", \"long\", \"portion\", \"voice\", \"letter\", \"character\", \"room\", \"vast\", \"circumstances\", \"breath\", \"gave\", \"times\", \"case\", \"time\", \"attention\", \"say\", \"good\", \"just\", \"light\", \"word\", \"true\", \"given\", \"somewhat\", \"round\", \"fine\", \"precisely\", \"proper\", \"does\", \"opened\", \"building\", \"miles\", \"foot\", \"green\", \"order\", \"grace\", \"heaven\", \"vain\", \"evil\", \"conceive\", \"dr\", \"gentle\", \"behold\", \"greatest\", \"spirit\", \"characters\", \"explanation\", \"occasion\", \"day\", \"means\", \"earth\", \"moon\", \"supposed\", \"truth\", \"moment\", \"eyes\", \"death\", \"beauty\", \"mean\", \"small\", \"surface\", \"like\", \"certain\", \"place\", \"heart\", \"scarcely\", \"city\", \"home\", \"taken\", \"sea\", \"hours\", \"river\", \"similar\", \"short\", \"grew\", \"ship\", \"succeeded\", \"taking\", \"ill\", \"wonder\", \"occasioned\", \"senses\", \"kept\", \"darkness\", \"living\", \"fear\", \"arrived\", \"termed\", \"steadily\", \"greatly\", \"total\", \"fearful\", \"curiosity\", \"make\", \"ordinary\", \"time\", \"question\", \"amid\", \"minutes\", \"longer\", \"far\", \"night\", \"eyes\", \"felt\", \"altogether\", \"looking\", \"suppose\", \"table\", \"sat\", \"mentioned\", \"formed\", \"brought\", \"effort\", \"narrow\", \"imagination\", \"glass\", \"coming\", \"met\", \"editor\", \"chair\", \"doing\", \"positive\", \"surprise\", \"expected\", \"consider\", \"mille\", \"language\", \"country\", \"neck\", \"series\", \"caught\", \"makes\", \"care\", \"human\", \"perceived\", \"said\", \"say\", \"idea\", \"late\", \"sure\", \"high\", \"think\", \"difficulty\", \"fully\", \"doubt\", \"evident\", \"huge\", \"great\", \"did\", \"right\", \"know\", \"reason\", \"continued\", \"purpose\", \"morning\", \"little\", \"marie\", \"apartment\", \"walls\", \"knowledge\", \"don\", \"descent\", \"perfect\", \"filled\", \"st\", \"sunday\", \"secret\", \"circumstance\", \"despair\", \"appear\", \"angles\", \"big\", \"objects\", \"early\", \"leave\", \"intended\", \"police\", \"rog\\u00eat\", \"yes\", \"odd\", \"eye\", \"clear\", \"degree\", \"left\", \"slight\", \"trouble\", \"said\", \"brief\", \"wish\", \"mr\", \"immediately\", \"object\", \"possible\", \"knew\", \"madame\", \"speak\", \"really\", \"dark\", \"boat\", \"hope\", \"terrible\", \"game\", \"age\", \"evening\", \"board\", \"chess\", \"sir\", \"ellison\", \"drawer\", \"acquaintance\", \"particular\", \"lalande\", \"maelzel\", \"getting\", \"corner\", \"thoughts\", \"player\", \"frequently\", \"antagonist\", \"soon\", \"sufficiently\", \"friend\", \"far\", \"automaton\", \"like\", \"went\", \"person\", \"inches\", \"mind\", \"shall\", \"life\", \"thousand\", \"oh\", \"new\", \"away\", \"singular\", \"horror\", \"business\", \"replied\", \"terror\", \"hung\", \"line\", \"blood\", \"cut\", \"tone\", \"valley\", \"died\", \"alas\", \"thou\", \"forever\", \"magnificent\", \"bear\", \"te\", \"forms\", \"details\", \"palace\", \"direct\", \"king\", \"end\", \"body\", \"chamber\", \"old\", \"balloon\", \"days\", \"best\", \"soul\", \"like\", \"death\", \"man\", \"matter\", \"general\", \"house\", \"appearance\", \"present\", \"corpse\", \"men\", \"believe\", \"arose\", \"instant\", \"design\", \"especially\", \"sun\", \"expression\", \"peculiar\", \"known\", \"girl\", \"smith\", \"presented\", \"reference\", \"baron\", \"gentlemen\", \"forgotten\", \"vague\", \"equal\", \"answer\", \"resolved\", \"gas\", \"feelings\", \"notice\", \"turning\", \"water\", \"point\", \"quite\", \"condition\", \"young\", \"read\", \"told\", \"say\", \"countenance\", \"personal\", \"thought\", \"door\", \"fact\", \"second\", \"sense\", \"clock\", \"natural\", \"wall\", \"necessary\", \"set\", \"tree\", \"jupiter\", \"return\", \"simple\", \"instance\", \"reached\", \"teeth\", \"write\", \"compartment\", \"absence\", \"obtained\", \"bug\", \"understood\", \"doors\", \"dog\", \"suspicion\", \"street\", \"various\", \"fourth\", \"conceived\", \"machinery\", \"main\", \"open\", \"seen\", \"stood\", \"impossible\", \"going\", \"account\", \"room\", \"let\", \"manner\", \"mere\", \"merely\", \"form\", \"figure\", \"words\", \"single\", \"result\", \"considered\", \"occurred\", \"sleep\", \"understand\", \"motion\", \"observation\", \"absolutely\", \"ha\", \"ah\", \"necessity\", \"steps\", \"solution\", \"accomplished\", \"admitted\", \"seat\", \"fashion\", \"danger\", \"fall\", \"companion\", \"applied\", \"artist\", \"diddler\", \"rendered\", \"world\", \"party\", \"box\", \"trees\", \"nose\", \"said\", \"force\", \"length\", \"large\", \"period\", \"looked\", \"face\", \"effect\", \"called\", \"bed\", \"sufficient\", \"hands\", \"opinion\", \"animal\", \"window\", \"arms\", \"proceed\", \"rich\", \"help\", \"middle\", \"properly\", \"quantity\", \"usually\", \"intellect\", \"town\", \"gigantic\", \"upper\", \"mrs\", \"prodigious\", \"fallen\", \"patient\", \"stone\", \"subject\", \"black\", \"beautiful\", \"fell\", \"ground\", \"white\", \"able\", \"head\", \"lady\", \"things\", \"view\", \"close\", \"regard\", \"says\", \"company\", \"exceedingly\", \"le\", \"captain\", \"hair\", \"began\", \"genius\", \"spoken\", \"shore\", \"loud\", \"piece\", \"daughter\", \"opinions\", \"spot\", \"friends\", \"proved\", \"employed\", \"wyatt\", \"followed\", \"opposite\", \"drawing\", \"author\", \"watch\", \"skull\", \"finally\", \"difficult\", \"heard\", \"perceive\", \"lay\", \"example\", \"look\", \"turn\", \"machine\", \"wife\", \"strange\", \"course\", \"kind\", \"art\", \"monsieur\", \"minute\", \"respect\", \"profound\", \"regarded\", \"extreme\", \"gold\", \"discovery\", \"von\", \"strong\", \"persons\", \"influence\", \"feeling\", \"year\", \"unknown\", \"astonishment\", \"escape\", \"frame\", \"dat\", \"need\", \"obvious\", \"consequence\", \"attempt\", \"act\", \"increased\", \"violence\", \"cat\", \"hitherto\", \"thrown\", \"nature\", \"apparent\", \"matter\", \"mouth\", \"size\", \"immediate\", \"thing\", \"observed\", \"dupin\", \"tell\", \"atmosphere\", \"entered\", \"usual\", \"dead\", \"turned\", \"murder\", \"existence\", \"lips\", \"bodies\", \"proportion\", \"search\", \"weight\", \"vicinity\", \"people\", \"midnight\", \"asked\", \"failed\", \"silence\", \"reward\", \"folly\", \"possibly\", \"offered\", \"contemplation\", \"happy\", \"remembered\", \"stage\", \"committed\", \"arrested\", \"car\", \"individual\", \"points\", \"air\", \"original\", \"having\"], \"Total\": [273.0, 336.0, 181.0, 194.0, 172.0, 259.0, 260.0, 171.0, 251.0, 160.0, 142.0, 138.0, 204.0, 213.0, 171.0, 127.0, 139.0, 128.0, 183.0, 126.0, 131.0, 115.0, 114.0, 115.0, 127.0, 114.0, 108.0, 122.0, 106.0, 136.0, 116.8560721538277, 112.58487476599738, 78.89736927083453, 61.54200210746788, 60.612136383931514, 126.79619672309298, 57.24359087929917, 42.7831636618411, 40.42432387208508, 41.00295940737622, 39.635935944075385, 36.308338345786495, 35.6543675400165, 33.40563449456073, 32.45252037422216, 31.39913873695602, 29.4443031764741, 26.76589522494039, 26.946899672658713, 26.326696996924273, 26.728729320964554, 24.228626243346344, 24.466713919753907, 23.912600833832762, 23.56351814421236, 22.49909047926587, 22.4467700577015, 22.18335271853953, 21.81986757902959, 21.7582527308952, 102.11086635210765, 251.57935814832544, 24.988291047641358, 93.77829221105314, 183.6916279455955, 213.80263211966093, 48.30875049040386, 134.78958416548045, 37.20836547436998, 45.13503188651715, 43.19179416205324, 99.18708942312803, 46.184899448828844, 149.29831768674225, 53.948718353300805, 62.444452004844024, 56.501105940452724, 66.1732529411503, 136.46576904578083, 127.4302346952426, 76.9893329985798, 58.701714322039656, 56.86343213664327, 56.163528227157386, 54.29235164841071, 49.83395164879728, 48.11507267685867, 47.24478462907922, 43.21259932771932, 42.1234009961871, 41.29506233463249, 36.6125609454314, 37.16841929533175, 33.99985338996729, 30.867548168816345, 29.541252102036825, 27.096390223606484, 26.07206369933012, 25.648784165555885, 25.763147117976555, 25.338506602240358, 24.466821045403403, 23.93159566748365, 22.56539264237616, 22.517346240659926, 21.54662667340188, 21.41244973326061, 21.380195754868982, 21.085744123850866, 28.537928752924824, 204.092969203573, 76.70322403703221, 95.36145893392927, 50.05025655496731, 102.52463029443386, 111.02015373704052, 59.2867623973947, 57.58121785175105, 43.894121115772556, 76.31814925928404, 52.33726084810367, 80.53578754211846, 259.341597447784, 85.24153696645118, 260.60760092198086, 139.05619670750974, 131.21523950386816, 104.9967032764711, 75.28185138025627, 82.78658068490283, 59.35222216282153, 48.95756313386018, 47.82058171362454, 46.143451904130664, 42.72719871798077, 39.19422985399126, 36.098663927143704, 35.54683329924087, 34.34187292404509, 32.656966874368955, 31.129164196024007, 29.47736174682137, 27.794996615942257, 26.83505797885292, 26.63115335182192, 24.61038515807458, 24.468685566081554, 24.283202071033873, 22.99335655681423, 22.329601797268058, 22.257672519692136, 23.511179925165948, 68.57341251685965, 21.181111012282226, 20.998848965676835, 21.219861062094658, 171.18328035757952, 111.61283438578923, 97.58513928518487, 59.78164026393449, 50.414891658423706, 76.48127648061984, 102.59950796274015, 160.8498526202098, 111.99175225417083, 45.47518309960673, 43.68185471462263, 74.20735626751207, 52.14600489755039, 170.50039379565655, 73.93200579291712, 99.60839476895154, 91.82284942261603, 66.56105189189874, 63.42443566738132, 62.29664779849036, 65.73888291859481, 61.78015325266451, 53.89894536726094, 52.33729125999042, 52.41712612634539, 50.95732376408507, 47.41772384425041, 39.45239767811845, 37.09803365981184, 36.2113740587978, 30.660527878911125, 29.1564049818202, 27.50406137453383, 26.667979309117364, 26.605857704875966, 26.21263115106835, 26.32357984346803, 25.347413511325072, 25.022325445764146, 24.820642861115974, 24.348766281792805, 24.464580466680456, 23.97025233576312, 23.713699099394326, 23.50420330077976, 122.4911811439459, 67.61234627931951, 259.341597447784, 90.12616529741271, 25.86975806693202, 74.36015205601859, 56.53003005556031, 151.51557476017953, 134.78958416548045, 160.8498526202098, 90.61002010303379, 90.12049972458676, 68.23563453960426, 51.38244843135277, 49.13032894251762, 45.98598650681702, 41.68749822271357, 37.895728207460905, 55.03828906932002, 30.9190659632355, 29.871178717941355, 28.48513771769044, 27.57946730922545, 26.74165138436463, 26.107912298294448, 25.639476077601287, 24.678024217090904, 24.804920506296373, 23.650447284658682, 23.367718343417994, 23.092868720850753, 23.05909960180125, 22.78338201274978, 21.432050225383563, 21.360252062985168, 20.480164733112883, 20.046104137387395, 19.843139810513147, 19.711086413707793, 27.099172990132125, 77.81622199374945, 32.37559187661544, 336.11463620862605, 260.60760092198086, 114.52232337852753, 48.033811341742144, 80.67928827029489, 61.313754752496976, 68.61334623657505, 70.24100109334296, 54.38750558869633, 101.01160058986058, 50.459218461852856, 39.151023511349734, 213.80263211966093, 194.1844953801694, 97.35727572016602, 107.13794445190739, 76.1997428555845, 58.85644846597907, 54.74057256087745, 63.43357228222885, 273.37539633717205, 51.61561809757805, 37.30431947869066, 36.97896010554274, 36.48879567699836, 34.08990486059731, 32.17773081883449, 36.066708826489354, 29.031253500940462, 27.752010967431417, 27.267418306918366, 29.88069285727211, 26.487807380493432, 26.280345071700154, 25.912160172526796, 24.734507438793962, 24.541613632510597, 24.489428100644073, 23.029410956964266, 22.535826552418534, 22.02765614184162, 21.960815448250706, 21.89522895182663, 50.35830652340752, 36.20451934104329, 93.52987811102909, 41.964425157549854, 51.89810662040064, 131.90708797001423, 41.47183564441911, 33.88829185043021, 336.11463620862605, 38.03884472411114, 37.28934324564907, 171.87849883245005, 87.9121753348987, 81.43538693923752, 80.11232515980143, 66.47242051634848, 73.0529105822115, 62.83379984329321, 62.508097660568836, 58.27250779220206, 40.39070865616556, 38.5487708637292, 38.8553795239195, 36.55701981569344, 36.44545222568807, 36.26820126406119, 34.35917251736029, 33.80895857052541, 43.66196150174097, 32.78774066978011, 32.42885693385194, 31.497364816402634, 31.499459009486916, 27.761753514014313, 27.340014799232986, 26.482631094252397, 26.128558943958012, 24.538206926538155, 24.480239262402737, 25.472210190628708, 22.33574172765621, 77.02373195245764, 48.21000222921022, 77.91439242243617, 151.51557476017953, 43.73870634383279, 170.50039379565655, 65.88649442305689, 102.46668149556946, 46.560334289015096, 128.34166489192208, 126.19285896044713, 106.8332187984674, 102.4516212670315, 66.24560176868323, 63.180536542786584, 62.59275274256877, 57.33348935550372, 54.98802234799133, 51.59246065483157, 48.575127811714786, 43.903196059973524, 41.42705779646828, 36.57716457574669, 36.004409058368026, 32.850963009375945, 31.823434987627998, 26.10571085666771, 25.91210374015344, 25.196376734012837, 24.99279003089025, 24.34962750928738, 24.282108855906, 24.546034297105685, 23.002779062064405, 22.052550665490624, 21.518850719657966, 21.49203289146864, 19.98829355875628, 20.4362407879972, 89.10137733289866, 124.93581524651462, 74.16294121557827, 136.46576904578083, 72.45353500576057, 77.96798947648048, 58.49223610279639, 78.37440905965548, 170.50039379565655, 111.99175225417083, 251.57935814832544, 143.39552384802803, 114.50153431180284, 96.57838923312704, 76.78024971676204, 68.47678138944953, 64.03402187899096, 63.8176059079293, 58.180238344378225, 55.53466967202751, 54.56548370259979, 52.73381589947396, 51.67618929890517, 49.36520560945246, 47.45014270012417, 47.911850072518604, 83.18243904574747, 32.18064187275642, 29.58500856281701, 28.26803181365264, 26.848013508778227, 26.274661443810377, 26.04076848361684, 25.638741352594437, 25.799169260118077, 25.77181217379933, 24.62545920901803, 24.629255103860547, 24.549675033316063, 24.111033649149103, 24.29412931103321, 23.24413906522337, 109.31975502776315, 131.13576253995592, 85.491476160324, 46.78078486415446, 73.23735353167085, 27.655783775522817, 32.61074070259975, 260.60760092198086, 52.00092888360144, 30.771600170272773, 172.4210386311552, 114.99226788527601, 115.28346517912648, 79.1765575759221, 68.61996446044392, 63.30759195887801, 62.49673430387778, 54.23356676636919, 49.66864257258068, 49.04856131294749, 42.39353405969695, 42.23127655268714, 40.50972294061822, 38.85470495741678, 34.19923245196246, 33.619806383487635, 30.419641529186045, 29.53755252843088, 32.93686892000117, 29.213726079330215, 30.003031311978578, 27.553383626167733, 27.312857311083064, 28.21492407425813, 26.179868035261688, 26.03538481914324, 25.638165256456702, 25.715952695992215, 25.412577583248932, 24.24443224471769, 27.34658508856099, 65.06049576710105, 83.08196808753368, 119.92408834210026, 64.91345108966858, 63.82571925233518, 31.376278767687374, 68.81565920642065, 111.02015373704052, 138.4673195154269, 108.94288884781304, 86.82145769598029, 69.2555611756538, 67.8728778858027, 62.54336862434435, 115.88917327070214, 51.730042549700556, 51.18988552759528, 45.75400671828599, 38.51596170661517, 37.552977656847474, 36.6877581702365, 36.58981645521337, 38.10084977468655, 34.485123096789074, 31.22025231233842, 30.742022943230907, 29.28855101342397, 28.536633150659277, 27.319077716997693, 26.6252197366889, 25.716510258345693, 25.48007069744531, 24.990914887620114, 24.193457273340318, 23.79619543470674, 22.848393355083083, 21.292348078748333, 20.622602913316708, 27.461418204814226, 28.68924273166867, 96.08841394006308, 46.65876563967563, 64.55609882646996, 30.98106246495867, 49.27289649644548, 336.11463620862605, 42.404439900465206, 181.7494742046734, 98.81209119653326, 90.94704638658624, 72.0366548215653, 69.29420229305939, 54.0079818195544, 78.41118130032427, 51.608127661122175, 43.83690136999975, 43.365519633406635, 42.891027065242945, 37.275181081393725, 34.994487537093185, 33.02651604554119, 32.98100687584519, 32.377899519449294, 31.910828160895225, 31.198625640505103, 32.31193649922662, 29.7425965107728, 29.206202065138694, 28.63347775244455, 27.45234350012004, 25.30834582302261, 24.917836178132188, 24.44663208389979, 23.5622303134561, 23.21844684239332, 22.894249865303983, 22.48653670325077, 58.27823823742347, 62.064868430337036, 38.90091512902089, 80.72667422943789, 33.45057010921445, 36.106983195422146, 30.45128539265398, 160.67018624221262, 85.95991790153668, 81.85030083248246, 72.39564608304043, 48.23135338410071, 48.5193414838294, 47.69705911939982, 48.40900419220587, 42.49518215780225, 41.2151454782942, 37.915784281306394, 37.48467989742976, 32.168541401440784, 30.115136041635395, 27.932785595722656, 30.14912790499858, 26.51546809785305, 38.35163321526295, 25.912614745953416, 24.828985104932848, 24.4306702405156, 24.28075512930598, 23.746486636688417, 22.862274136420545, 22.74664236116426, 22.322217540560818, 22.12991057836992, 28.70381586313343, 21.266550828741444, 21.24120142085586, 27.840310187359528, 49.80631261813758, 27.907811512408095, 86.70654367601239, 53.43743474710494, 92.35272875680933, 43.15149078725086, 49.115003610245004, 32.73884593587316, 55.69046843094841, 45.20615330120573, 43.68085168518973, 127.91162035182506, 56.71758172884695, 45.07139573069141, 42.62610077010134, 42.858493768522386, 40.69279692615701, 39.79053759381228, 37.036055555484495, 36.481843028717236, 36.00911644847809, 34.99852863191026, 34.73909908216274, 36.04018168497731, 35.04350038009607, 32.14761523238791, 31.807510215130925, 31.17591621549276, 30.267900037301064, 28.82616824358079, 28.64115619810506, 27.75701383256115, 27.447863269806607, 26.946020931304986, 26.330546087258348, 25.555234222912116, 38.39474589476436, 24.416966214966624, 24.15463013519959, 23.546544626000333, 22.781000185959527, 22.916447125097136, 59.470229240150246, 102.48279529801833, 40.39927744985982, 143.39552384802803, 47.98056249904745, 35.84687284929789, 44.86932387037411, 142.0802878383363, 65.5546572826409, 60.95079776257133, 58.93007133336389, 55.80573078846224, 55.02754408418831, 54.867974260350316, 54.887424016346785, 68.70999854658804, 39.067011547402764, 37.51751231149474, 37.33097529304924, 35.14343820427683, 34.066000333040506, 33.33919189568742, 32.21330517067573, 32.00006360996899, 41.43852456443493, 26.886468949471126, 26.349636772789484, 25.992331064715064, 26.03146436265539, 25.627369512405927, 24.913868343737022, 23.856241282167066, 23.76161746258095, 21.17412216705723, 21.056631798521444, 20.840899166335817, 20.413137142911665, 33.583306649205284, 22.81967712246106, 46.37543364183906, 44.216815800544566, 37.20887363283408, 101.52320501338633, 46.546388510903206, 183.6916279455955], \"loglift\": [30.0, 29.0, 28.0, 27.0, 26.0, 25.0, 24.0, 23.0, 22.0, 21.0, 20.0, 19.0, 18.0, 17.0, 16.0, 15.0, 14.0, 13.0, 12.0, 11.0, 10.0, 9.0, 8.0, 7.0, 6.0, 5.0, 4.0, 3.0, 2.0, 1.0, 2.276, 2.2748, 2.2722, 2.2688, 2.2686, 2.2673, 2.2627, 2.2621, 2.2609, 2.2604, 2.2603, 2.2583, 2.2577, 2.256, 2.2547, 2.2541, 2.25, 2.249, 2.2485, 2.2478, 2.2463, 2.2452, 2.2448, 2.2447, 2.2441, 2.2422, 2.242, 2.241, 2.2407, 2.2398, 2.1908, 2.1162, 2.2338, 2.1348, 2.0603, 2.0067, 2.1461, 1.966, 2.1732, 2.1316, 2.1263, 1.9035, 2.0996, 1.7241, 1.9764, 1.9071, 1.84, 1.702, 1.0618, 2.5345, 2.5308, 2.5276, 2.5272, 2.5271, 2.5266, 2.525, 2.5243, 2.524, 2.5217, 2.5215, 2.5212, 2.5182, 2.5178, 2.5163, 2.5134, 2.512, 2.5091, 2.5077, 2.5072, 2.507, 2.5061, 2.5053, 2.5044, 2.502, 2.5019, 2.5001, 2.4998, 2.4996, 2.4991, 2.4881, 2.3137, 2.3969, 2.3758, 2.3912, 2.2576, 2.2295, 2.2498, 2.2539, 2.3161, 2.1044, 2.1944, 1.8705, 0.9905, 1.6546, 0.6909, 2.5505, 2.55, 2.5481, 2.5448, 2.5437, 2.5414, 2.5381, 2.5377, 2.536, 2.5353, 2.533, 2.5312, 2.531, 2.5299, 2.5285, 2.5269, 2.5255, 2.5233, 2.5223, 2.5219, 2.519, 2.5188, 2.5186, 2.5162, 2.5151, 2.515, 2.5147, 2.5131, 2.5127, 2.5123, 2.5121, 2.4003, 2.3427, 2.3181, 2.384, 2.3959, 2.2967, 2.2295, 2.0893, 2.1389, 2.3298, 2.2933, 1.9312, 2.1129, 1.1434, 1.7271, 2.646, 2.6442, 2.6412, 2.6406, 2.6404, 2.6402, 2.64, 2.638, 2.6375, 2.6374, 2.6362, 2.6356, 2.6317, 2.6301, 2.6294, 2.6246, 2.6229, 2.6212, 2.6202, 2.62, 2.6195, 2.6193, 2.618, 2.6178, 2.6175, 2.6168, 2.6167, 2.616, 2.6156, 2.6154, 2.6004, 2.5409, 2.2936, 2.2714, 2.5913, 2.0828, 2.095, 1.3929, 1.3308, 0.9986, 2.6582, 2.658, 2.6548, 2.6503, 2.6495, 2.6481, 2.646, 2.6437, 2.6385, 2.638, 2.6361, 2.6355, 2.6344, 2.6334, 2.632, 2.6319, 2.6304, 2.6296, 2.6287, 2.628, 2.6277, 2.6274, 2.6272, 2.6241, 2.6225, 2.6225, 2.6211, 2.6208, 2.6206, 2.6198, 2.5126, 2.5782, 2.268, 2.2732, 2.3734, 2.5034, 2.414, 2.4506, 2.3486, 2.2706, 2.2575, 1.9734, 2.2854, 2.3721, 1.2074, 2.6635, 2.6589, 2.6581, 2.6562, 2.6521, 2.6515, 2.6512, 2.646, 2.6444, 2.6434, 2.6433, 2.6426, 2.6411, 2.6394, 2.6378, 2.636, 2.6347, 2.6342, 2.6342, 2.6332, 2.6328, 2.6323, 2.6306, 2.6303, 2.6296, 2.6278, 2.6267, 2.6258, 2.6257, 2.6256, 2.5504, 2.5688, 2.3841, 2.4908, 2.395, 2.0867, 2.3352, 2.4476, 0.7458, 2.2837, 2.3002, 2.7198, 2.7147, 2.7138, 2.7136, 2.7113, 2.7109, 2.7105, 2.7102, 2.7093, 2.7022, 2.701, 2.7009, 2.6998, 2.6997, 2.6996, 2.6978, 2.6977, 2.6977, 2.6968, 2.6965, 2.6956, 2.6956, 2.6914, 2.6905, 2.6899, 2.6882, 2.6871, 2.687, 2.6866, 2.6832, 2.6792, 2.5356, 2.4078, 2.129, 2.4913, 1.7668, 2.207, 1.9117, 2.3174, 2.7221, 2.7218, 2.7207, 2.7204, 2.7152, 2.7147, 2.7145, 2.7129, 2.7125, 2.7108, 2.71, 2.7079, 2.7067, 2.7038, 2.7036, 2.7007, 2.6995, 2.6935, 2.6933, 2.6923, 2.692, 2.691, 2.6908, 2.6887, 2.6887, 2.6869, 2.6858, 2.6858, 2.6823, 2.6822, 2.6008, 2.5162, 2.5385, 2.3714, 2.4654, 2.3701, 2.42, 2.2271, 1.4231, 1.631, 0.839, 1.0987, 2.7217, 2.7201, 2.7177, 2.7163, 2.7153, 2.714, 2.7137, 2.7131, 2.7127, 2.7122, 2.7118, 2.7109, 2.7102, 2.7096, 2.704, 2.7008, 2.6976, 2.6966, 2.695, 2.6942, 2.6938, 2.6933, 2.6933, 2.6932, 2.6918, 2.6917, 2.6915, 2.691, 2.6909, 2.6894, 2.6261, 2.4569, 2.4164, 2.5339, 2.3159, 2.648, 2.5521, 0.9074, 2.1477, 2.5482, 2.7908, 2.7881, 2.7871, 2.7845, 2.7826, 2.7815, 2.7811, 2.7791, 2.7775, 2.7771, 2.7743, 2.7742, 2.7732, 2.7721, 2.769, 2.7685, 2.7653, 2.7646, 2.7644, 2.7643, 2.7639, 2.7623, 2.762, 2.761, 2.7605, 2.7602, 2.7596, 2.7595, 2.7594, 2.7573, 2.7515, 2.6164, 2.5598, 2.4462, 2.4112, 2.3716, 2.6554, 2.0045, 1.4562, 2.8081, 2.8062, 2.8024, 2.8015, 2.8012, 2.8001, 2.7976, 2.7969, 2.7966, 2.7945, 2.7907, 2.7901, 2.7894, 2.7893, 2.7888, 2.7879, 2.785, 2.7845, 2.7831, 2.7817, 2.78, 2.7791, 2.7785, 2.7782, 2.7775, 2.7761, 2.7744, 2.7737, 2.7703, 2.7694, 2.7689, 2.7642, 2.6831, 2.6462, 2.3758, 2.6642, 2.381, 0.912, 2.3949, 2.8663, 2.8621, 2.8613, 2.8586, 2.8581, 2.8541, 2.8539, 2.8535, 2.8503, 2.8501, 2.849, 2.8466, 2.8449, 2.8433, 2.8431, 2.8422, 2.842, 2.8416, 2.8408, 2.8401, 2.8395, 2.839, 2.8375, 2.8346, 2.834, 2.8332, 2.8318, 2.8311, 2.8306, 2.8299, 2.8085, 2.7539, 2.7489, 2.5232, 2.7209, 2.661, 2.7075, 2.8818, 2.8768, 2.8763, 2.8748, 2.8684, 2.8683, 2.8679, 2.8678, 2.8654, 2.8648, 2.8619, 2.8603, 2.8586, 2.8566, 2.8541, 2.8535, 2.8524, 2.8517, 2.8516, 2.85, 2.8493, 2.8488, 2.8482, 2.8467, 2.8464, 2.8456, 2.8448, 2.8438, 2.8435, 2.8435, 2.8432, 2.8361, 2.8419, 2.7209, 2.7316, 2.4861, 2.6624, 2.5632, 2.6922, 2.2953, 2.4091, 2.4261, 2.8913, 2.886, 2.8822, 2.881, 2.8809, 2.88, 2.8795, 2.8772, 2.8772, 2.8766, 2.8762, 2.8761, 2.8758, 2.8753, 2.8738, 2.8733, 2.8725, 2.8719, 2.8704, 2.8703, 2.8692, 2.8686, 2.8682, 2.8674, 2.8663, 2.8655, 2.8645, 2.8641, 2.8631, 2.8618, 2.8616, 2.7431, 2.5874, 2.7018, 2.1593, 2.5857, 2.6489, 2.4134, 3.0133, 3.0058, 3.0042, 3.004, 3.0033, 3.0032, 3.0031, 3.003, 3.0019, 2.9958, 2.9952, 2.9951, 2.9935, 2.9925, 2.9915, 2.9911, 2.9897, 2.9872, 2.9852, 2.9844, 2.9841, 2.9841, 2.9835, 2.9819, 2.9806, 2.9806, 2.9758, 2.9755, 2.9749, 2.9741, 2.9734, 2.973, 2.7158, 2.7277, 2.7496, 2.2656, 2.6373, 1.3873], \"logprob\": [30.0, 29.0, 28.0, 27.0, 26.0, 25.0, 24.0, 23.0, 22.0, 21.0, 20.0, 19.0, 18.0, 17.0, 16.0, 15.0, 14.0, 13.0, 12.0, 11.0, 10.0, 9.0, 8.0, 7.0, 6.0, 5.0, 4.0, 3.0, 2.0, 1.0, -3.5744, -3.6128, -3.9711, -4.2228, -4.2383, -3.5015, -4.3014, -4.5931, -4.6511, -4.6373, -4.6713, -4.7611, -4.7798, -4.8467, -4.8769, -4.9105, -4.9789, -5.0753, -5.0691, -5.093, -5.0794, -5.1786, -5.1692, -5.1923, -5.2076, -5.2557, -5.2583, -5.271, -5.2878, -5.2916, -3.7945, -2.9674, -5.1592, -3.9357, -3.3378, -3.2396, -4.5877, -3.7416, -4.8217, -4.6701, -4.7195, -4.1108, -4.6791, -3.8814, -4.647, -4.57, -4.7371, -4.7171, -4.6335, -3.2293, -3.7369, -4.0113, -4.0435, -4.056, -4.0904, -4.1777, -4.2135, -4.232, -4.3236, -4.3492, -4.3695, -4.4928, -4.4781, -4.5687, -4.6682, -4.7136, -4.8029, -4.8428, -4.8597, -4.8554, -4.8729, -4.9087, -4.9318, -4.9929, -4.9952, -5.0411, -5.0476, -5.0493, -5.0636, -4.7721, -2.9791, -3.8746, -3.6779, -4.3071, -3.7237, -3.6722, -4.2792, -4.3043, -4.5135, -4.1721, -4.4593, -4.3522, -4.0627, -4.5113, -4.3574, -3.126, -3.1845, -3.4093, -3.7453, -3.6514, -3.9865, -4.1823, -4.2062, -4.2436, -4.3212, -4.4099, -4.4939, -4.5096, -4.5452, -4.5968, -4.6463, -4.7023, -4.7632, -4.7994, -4.8074, -4.8892, -4.8952, -4.903, -4.96, -4.9903, -4.9937, -4.9392, -3.8704, -5.0456, -5.0546, -5.0443, -3.0683, -3.5536, -3.7126, -4.1367, -4.2952, -3.9776, -3.751, -3.4416, -3.754, -4.4644, -4.5412, -4.3733, -4.5444, -4.3293, -4.5811, -3.3642, -3.4473, -3.772, -3.821, -3.8391, -3.7855, -3.8478, -3.9862, -4.0162, -4.0147, -4.0442, -4.1167, -4.3046, -4.3677, -4.3926, -4.5638, -4.6158, -4.6758, -4.7077, -4.7103, -4.7256, -4.7216, -4.7607, -4.7738, -4.7822, -4.8021, -4.7974, -4.8185, -4.8297, -4.8388, -3.2029, -3.8567, -2.7596, -3.8388, -4.767, -4.2196, -4.4816, -4.1977, -4.3768, -4.5323, -3.4467, -3.4522, -3.7336, -4.0218, -4.0674, -4.1349, -4.2351, -4.3328, -3.9649, -4.542, -4.5784, -4.6265, -4.6599, -4.6918, -4.7171, -4.7354, -4.775, -4.7708, -4.8193, -4.832, -4.8441, -4.8459, -4.8581, -4.9224, -4.9273, -4.9695, -4.9922, -5.0027, -5.0096, -4.6921, -3.7444, -4.5557, -2.5259, -2.7751, -3.4973, -4.2361, -3.8069, -4.0448, -4.0343, -4.0888, -4.3578, -4.0227, -4.4048, -4.5718, -4.039, -2.679, -3.3741, -3.2792, -3.6218, -3.8842, -3.9573, -3.8102, -2.3546, -4.0232, -4.3489, -4.3578, -4.3718, -4.4413, -4.5007, -4.3882, -4.607, -4.6534, -4.6715, -4.58, -4.7015, -4.7097, -4.7244, -4.7726, -4.7807, -4.7835, -4.8468, -4.8695, -4.8933, -4.8964, -4.8995, -4.1418, -4.4534, -3.689, -4.3838, -4.2671, -3.6426, -4.5512, -4.6407, -4.0482, -4.6891, -4.6925, -2.7448, -3.4203, -3.4977, -3.5143, -3.7033, -3.6093, -3.7604, -3.7658, -3.8369, -4.2105, -4.2585, -4.2506, -4.3127, -4.3159, -4.3208, -4.3767, -4.3929, -4.1372, -4.4245, -4.4358, -4.4659, -4.4658, -4.5963, -4.6125, -4.645, -4.6602, -4.7241, -4.7265, -4.6872, -4.822, -3.5881, -4.2002, -3.848, -3.4617, -4.3419, -3.7058, -4.2164, -4.0701, -4.4532, -3.0346, -3.0518, -3.2194, -3.2616, -3.7028, -3.7507, -3.7602, -3.8496, -3.8917, -3.9572, -4.0182, -4.1215, -4.1807, -4.3082, -4.3242, -4.4187, -4.4517, -4.6557, -4.6634, -4.6924, -4.7008, -4.7279, -4.7308, -4.7221, -4.7871, -4.8311, -4.8566, -4.8579, -4.9339, -4.9118, -3.5208, -3.2674, -3.7666, -3.3239, -3.863, -3.885, -4.1225, -4.0228, -4.0496, -4.262, -4.2446, -4.5471, -3.1491, -3.3209, -3.5527, -3.6686, -3.7367, -3.7414, -3.8341, -3.8813, -3.8993, -3.9339, -3.9545, -4.0013, -4.0415, -4.0324, -3.4864, -4.4392, -4.5265, -4.5731, -4.6262, -4.6485, -4.6579, -4.674, -4.6678, -4.6689, -4.7158, -4.7158, -4.7192, -4.7377, -4.7302, -4.7759, -3.291, -3.2783, -3.7466, -4.232, -4.0018, -4.6435, -4.5746, -4.141, -4.5124, -4.6366, -2.6706, -3.0784, -3.0769, -3.4552, -3.6001, -3.6818, -3.6951, -3.839, -3.9285, -3.9414, -4.0901, -4.094, -4.1366, -4.1794, -4.3102, -4.3278, -4.431, -4.4611, -4.3523, -4.4725, -4.4462, -4.5329, -4.542, -4.5106, -4.5859, -4.5917, -4.6077, -4.6047, -4.6167, -4.6659, -4.5512, -3.8197, -3.6318, -3.3784, -4.0271, -4.0836, -4.51, -4.3754, -4.4454, -2.8727, -3.1144, -3.3451, -3.5721, -3.5925, -3.6755, -3.0612, -3.8684, -3.8792, -3.9936, -4.1696, -4.1955, -4.2195, -4.2223, -4.1823, -4.283, -4.3853, -4.4012, -4.4511, -4.4784, -4.5237, -4.5504, -4.5858, -4.5953, -4.6154, -4.6492, -4.6675, -4.7088, -4.7827, -4.8156, -4.5297, -4.4907, -3.363, -4.1223, -4.0681, -4.5138, -4.333, -3.882, -4.4692, -2.5424, -3.156, -3.2398, -3.4756, -3.515, -3.7682, -3.3956, -3.8142, -3.9806, -3.9916, -4.0037, -4.1465, -4.2112, -4.2708, -4.2724, -4.2917, -4.3064, -4.3294, -4.2952, -4.3787, -4.3975, -4.4178, -4.4614, -4.5456, -4.5618, -4.5817, -4.6199, -4.6354, -4.6499, -4.6686, -3.7377, -3.7293, -4.2015, -3.6971, -4.3804, -4.3639, -4.4878, -2.6502, -3.2806, -3.3302, -3.4544, -3.867, -3.8611, -3.8786, -3.8639, -3.9966, -4.0277, -4.1142, -4.1272, -4.2818, -4.3498, -4.4275, -4.3517, -4.4812, -4.1129, -4.5051, -4.5494, -4.5662, -4.5729, -4.5957, -4.6352, -4.6406, -4.6602, -4.6697, -4.4106, -4.7107, -4.7119, -4.4417, -3.8671, -4.4406, -3.4279, -3.9012, -3.5996, -4.1843, -4.154, -4.4306, -4.2963, -4.3911, -4.4083, -2.8687, -3.6873, -3.9209, -3.9779, -3.9726, -4.0253, -4.0483, -4.1223, -4.1374, -4.151, -4.1799, -4.1874, -4.1509, -4.1795, -4.2672, -4.2784, -4.2992, -4.3294, -4.3797, -4.3862, -4.4187, -4.4305, -4.4494, -4.4733, -4.5043, -4.0979, -4.5516, -4.5628, -4.5893, -4.6237, -4.618, -3.7828, -3.3943, -4.2108, -3.4864, -4.1549, -4.3833, -4.3942, -2.6417, -3.4227, -3.4971, -3.5311, -3.5862, -3.6004, -3.6034, -3.6031, -3.3796, -3.9503, -3.9913, -3.9964, -4.0584, -4.0905, -4.1131, -4.1479, -4.1559, -3.9, -4.3345, -4.3555, -4.3695, -4.368, -4.3842, -4.4141, -4.4587, -4.4627, -4.5828, -4.5886, -4.5996, -4.6211, -4.124, -4.5108, -4.0588, -4.0946, -4.2452, -3.7255, -4.1336, -4.0108]}, \"token.table\": {\"Topic\": [6, 12, 10, 11, 11, 2, 3, 7, 9, 10, 7, 14, 2, 11, 7, 11, 1, 11, 14, 15, 8, 5, 4, 7, 6, 12, 9, 7, 6, 6, 14, 6, 9, 2, 11, 12, 9, 15, 4, 14, 1, 11, 15, 14, 15, 1, 14, 1, 2, 5, 12, 15, 13, 7, 13, 8, 1, 8, 9, 8, 8, 12, 1, 3, 7, 12, 13, 3, 9, 1, 5, 8, 7, 8, 6, 2, 12, 8, 7, 7, 15, 1, 8, 2, 7, 11, 2, 1, 2, 6, 14, 3, 5, 10, 3, 8, 12, 2, 13, 1, 15, 5, 2, 7, 9, 11, 14, 5, 2, 3, 6, 14, 5, 1, 8, 1, 2, 3, 7, 6, 2, 4, 4, 1, 6, 10, 13, 2, 5, 13, 15, 11, 13, 10, 2, 3, 10, 2, 9, 14, 5, 2, 11, 15, 6, 2, 7, 9, 1, 5, 7, 9, 5, 2, 14, 4, 8, 11, 7, 4, 14, 13, 1, 3, 2, 4, 8, 15, 1, 3, 8, 1, 2, 6, 2, 2, 6, 9, 6, 8, 6, 11, 8, 13, 5, 6, 8, 14, 3, 10, 5, 6, 10, 10, 2, 5, 9, 13, 3, 7, 13, 1, 1, 15, 6, 1, 3, 1, 5, 12, 5, 7, 13, 2, 8, 15, 1, 3, 2, 9, 14, 9, 1, 7, 5, 6, 3, 11, 13, 13, 15, 5, 3, 9, 14, 6, 8, 3, 4, 5, 15, 12, 10, 15, 11, 12, 2, 1, 4, 7, 11, 4, 4, 1, 14, 9, 1, 3, 8, 12, 5, 11, 6, 11, 13, 3, 13, 15, 3, 5, 11, 12, 14, 8, 9, 11, 5, 8, 1, 10, 14, 7, 7, 11, 13, 1, 5, 7, 9, 2, 3, 15, 9, 13, 3, 1, 9, 7, 12, 9, 3, 1, 5, 1, 3, 11, 10, 11, 14, 3, 3, 1, 3, 5, 1, 3, 4, 3, 4, 1, 12, 11, 13, 1, 1, 11, 12, 15, 1, 15, 13, 5, 13, 4, 3, 1, 12, 1, 5, 14, 4, 7, 8, 1, 3, 6, 4, 9, 2, 5, 11, 2, 5, 8, 1, 2, 5, 4, 5, 14, 15, 7, 2, 1, 10, 1, 7, 14, 8, 15, 14, 10, 9, 12, 6, 2, 10, 3, 4, 14, 8, 7, 6, 6, 9, 14, 13, 7, 5, 12, 1, 5, 14, 1, 3, 13, 13, 6, 1, 1, 2, 6, 7, 10, 12, 11, 2, 11, 2, 8, 3, 1, 3, 7, 8, 8, 15, 1, 2, 6, 4, 2, 1, 2, 5, 6, 1, 4, 11, 3, 13, 12, 5, 2, 13, 7, 10, 13, 10, 7, 7, 8, 9, 10, 4, 8, 10, 5, 1, 8, 11, 6, 4, 6, 8, 14, 3, 6, 3, 6, 10, 2, 1, 9, 5, 11, 11, 5, 12, 15, 3, 5, 8, 14, 1, 4, 5, 13, 2, 2, 3, 9, 2, 6, 14, 3, 15, 6, 11, 12, 14, 7, 12, 15, 2, 5, 10, 2, 14, 1, 7, 9, 10, 11, 5, 14, 8, 1, 4, 11, 14, 9, 7, 6, 11, 15, 10, 14, 3, 4, 11, 6, 11, 15, 8, 1, 8, 3, 4, 10, 3, 12, 13, 13, 3, 4, 6, 2, 15, 1, 8, 7, 2, 11, 2, 1, 12, 9, 15, 3, 13, 1, 5, 6, 12, 1, 5, 6, 7, 12, 13, 1, 7, 9, 14, 13, 4, 1, 7, 1, 2, 2, 9, 10, 1, 14, 15, 6, 2, 13, 1, 2, 7, 5, 7, 15, 2, 3, 1, 9, 9, 2, 12, 1, 10, 12, 14, 3, 12, 15, 13, 6, 12, 4, 5, 13, 1, 6, 9, 2, 10, 9, 11, 7, 6, 9, 13, 14, 1, 3, 1, 15, 11, 15, 8, 9, 14, 11, 10, 15, 12, 6, 4, 6, 2, 10, 3, 1, 5, 6, 9, 11, 5, 1, 1, 2, 5, 9, 13, 4, 4, 15, 11, 10, 6, 1, 10, 11, 2, 10, 4, 1, 5, 10, 1, 3, 8, 4, 13, 4, 15, 4, 10, 11, 8, 7, 1, 9, 14, 13, 11, 6, 8, 3, 4, 7, 9, 11, 3, 7, 15, 2, 5, 8, 14, 2, 7, 1, 3, 13, 13, 6, 15, 2, 4, 1, 11, 12, 2, 7, 8, 9, 10, 4, 13, 10, 14, 5, 12, 4, 2, 12, 7, 15, 9, 6, 5, 1, 3, 5, 6, 1, 3, 5, 10, 1, 5, 4, 4, 8, 10, 15, 4, 7, 8, 15, 13, 5, 6, 8, 10, 7, 8, 10, 14, 2, 4, 6, 2, 6, 4, 9, 8, 1, 2, 4, 12, 10, 11, 15, 4, 6, 3, 3, 6, 2, 13, 15, 9, 11, 10, 14, 12, 15, 12, 9, 3, 8, 10, 1, 2, 15, 13, 14, 1, 2, 11, 14, 10, 6, 13, 3, 9, 1, 6, 9, 10, 15, 1, 3, 4, 7, 3, 8, 12, 6, 13, 15, 12, 6, 7, 1, 4, 3, 8, 11, 1, 5, 1, 11, 10, 13, 14, 1, 7, 6, 11, 1, 9], \"Freq\": [0.13135734496662507, 0.853822742283063, 0.9584535681605856, 0.9859323948060883, 0.9765177623744692, 0.014531576265227405, 0.18891049144795627, 0.2906315253045481, 0.05812630506090962, 0.4504788642220495, 0.9842093197541522, 0.9829230948965707, 0.9595374064752247, 0.9721381225077704, 0.9877775634959991, 0.9758629110191887, 0.1674494023091417, 0.14774947262571328, 0.20684926167599857, 0.4727983124022825, 0.9525179057829439, 0.9875666498964045, 0.9277241765425693, 0.038655174022607056, 0.970304343411264, 0.9657900768178899, 0.974601114898642, 0.9401971179671061, 0.9650356983609975, 0.1732704256576819, 0.8168462923862146, 0.9647979880313526, 0.9898378851379054, 0.9871497393204063, 0.9393045767442525, 0.9689184277225699, 0.9903723264190617, 0.9640802488982518, 0.9591434677812006, 0.9762289205088486, 0.9809245360335418, 0.969809683291013, 0.9487796820720042, 0.9713396440137421, 0.9855618629649981, 0.026045230322421887, 0.9636735219296098, 0.11731369888292531, 0.4105979460902386, 0.04692547955317012, 0.1525078085478029, 0.2580901375424357, 0.9404439940006765, 0.8002065658929814, 0.18290435791839577, 0.9905300099996138, 0.2208311850999111, 0.7729091478496888, 0.9514870459306849, 0.9777546836895739, 0.07711900838450811, 0.8740154283577585, 0.10995007956423687, 0.7916405728625054, 0.06597004773854212, 0.9882164362730738, 0.963674405163162, 0.9434948771674384, 0.9797141026237774, 0.7414448613597627, 0.1112167292039644, 0.12975285073795848, 0.2564442907198564, 0.7351403000635884, 0.9779308059925973, 0.09667304792137811, 0.886169605945966, 0.97210316501127, 0.9604422220391495, 0.9655685997489111, 0.9674636784929688, 0.1840945284954359, 0.808415103393001, 0.9733307147661513, 0.34078887045416273, 0.6505969345034016, 0.9588807502277749, 0.1822567532198599, 0.7973732953368871, 0.6835118203135058, 0.28917807782494476, 0.018169169443848675, 0.9629659805239799, 0.9799159466700788, 0.9609260413078532, 0.9885165264980226, 0.9820028052514694, 0.9887763316244131, 0.9758468854419055, 0.2371945475476051, 0.7331467833289612, 0.959438873262576, 0.5090904460151693, 0.1614189219072488, 0.22350312264080605, 0.09933472117369158, 0.9657170370227697, 0.9575097581045898, 0.2705188339677922, 0.43283013434846757, 0.17583724207906495, 0.10820753358711689, 0.9725251822785175, 0.16180588044800123, 0.8225132256106729, 0.24384384443234874, 0.7510390408516341, 0.9442375326016968, 0.9760726563393567, 0.9815837010030256, 0.7467712841834652, 0.24313483671089564, 0.9933080103446691, 0.14297824830135997, 0.8340397817579331, 0.9793454162697048, 0.9744698562718205, 0.9761964326618271, 0.9722660589017229, 0.029776698597476076, 0.9528543551192344, 0.9628685771512095, 0.9708937579750354, 0.9715556168293749, 0.9747050713449744, 0.9471568013443937, 0.948671421456412, 0.1496340863097343, 0.8122993256814147, 0.9782731702605837, 0.9540702100216212, 0.9746305219054702, 0.983520422092681, 0.9445491927460429, 0.9854485194349754, 0.9816780920399949, 0.9568074555363498, 0.9838519922902077, 0.21153468286349908, 0.19230425714863553, 0.038460851429727105, 0.557682345731043, 0.9363185387993466, 0.007817897992766158, 0.9850551470885359, 0.9785483773124515, 0.9740962537648266, 0.9506702469243438, 0.9781628105531379, 0.953738671097925, 0.9836831280670482, 0.9647810630111756, 0.14020060808431253, 0.8528870325129012, 0.025651552815829787, 0.26934130456621275, 0.6925919260274042, 0.9838319244845142, 0.9778173042272171, 0.6607629446859027, 0.33038147234295134, 0.9911929724593391, 0.2312223081233356, 0.7514725014008407, 0.9809202411487329, 0.9485081428725705, 0.9633991960009457, 0.9860845287419968, 0.9512812686360467, 0.9758885487697545, 0.9939001547067369, 0.9467828575379975, 0.9648000892054147, 0.9674710604948557, 0.6691248596747917, 0.3132073811243706, 0.9505563816215148, 0.971469411116905, 0.9695649697905416, 0.9549322390138666, 0.9675499663023691, 0.9680285156249565, 0.9913710034289788, 0.9569403741416918, 0.18809720753902395, 0.4949926514184841, 0.19799706056739363, 0.1088983833120665, 0.9567981058198376, 0.9867754532721669, 0.9406414857433024, 0.950947958665631, 0.9800964657029481, 0.9844005690249522, 0.9553001612204517, 0.2049492386494585, 0.7890545688004151, 0.9816469177504811, 0.975058925710267, 0.9813364286982217, 0.9702751058415439, 0.9759745364063417, 0.962283973533197, 0.1122317106573809, 0.8754073431275711, 0.9813267318887385, 0.8227797495175364, 0.1515646907005988, 0.9768248780512604, 0.9700520798229321, 0.9776141649565292, 0.9869148768885809, 0.9492903051536506, 0.9650326947612405, 0.6738114666937218, 0.29726976471781846, 0.9808454947522296, 0.18539336310400675, 0.7879217931920287, 0.9883473341527651, 0.986206113369191, 0.9526750559204457, 0.9524331563454035, 0.9905133541332218, 0.9867922509195068, 0.7484239412447771, 0.23521895296264422, 0.6279147811125192, 0.19272631895532769, 0.10568862652388937, 0.06838675833898723, 0.9813230797060635, 0.9888668754263047, 0.9618221596883949, 0.9665410617049527, 0.9475224656212309, 0.9719387552106481, 0.15839955752395393, 0.28379920723041746, 0.5477984697703406, 0.960348995141791, 0.9468421694890858, 0.9699035103547994, 0.989503253698744, 0.974612592759719, 0.9539201153581273, 0.9948050324947022, 0.1362622714858322, 0.14864975071181694, 0.7060863158811305, 0.9932676308609122, 0.9913121305056656, 0.9644778169531311, 0.040155552476528356, 0.9436554831984163, 0.9752196279873828, 0.9407667478305742, 0.9633188900604127, 0.9637264852691345, 0.04716487246841477, 0.6603082145578067, 0.1414946174052443, 0.1414946174052443, 0.944572971033228, 0.9750868678064104, 0.9871395185677654, 0.9763633462178845, 0.9522707970857208, 0.9624256391080237, 0.9444142343049824, 0.9727271154913245, 0.9814617503901395, 0.7315721553850727, 0.25669198434563956, 0.9472522529680242, 0.3125717904505848, 0.6619167327188855, 0.9847629861924818, 0.9776096818972102, 0.6420491125056886, 0.28826694847194184, 0.052412172449443975, 0.9956198463643544, 0.9629709113685001, 0.9404556422752361, 0.9782754565149251, 0.960033111761981, 0.9817755610258398, 0.9483037796238573, 0.9633120471174962, 0.977216991823626, 0.9760851439601022, 0.9789891768855298, 0.6371556698012404, 0.17698768605590012, 0.1592889174503101, 0.8605226961396629, 0.095613632904407, 0.9719760841696314, 0.992404533328843, 0.9688818269179452, 0.7577081647401419, 0.004677210893457667, 0.2338605446728833, 0.9554402192787134, 0.9782580063275008, 0.9810100783329111, 0.9838058184812675, 0.9701013939659544, 0.11957942680618591, 0.8669508443448478, 0.9609147197104435, 0.9603923549169334, 0.9886261192340382, 0.985833985801517, 0.007886671886412136, 0.968511396958917, 0.9498195243839692, 0.8002542175930708, 0.1959806247166704, 0.9958288077092143, 0.13839785893022322, 0.8419203084921912, 0.9910387291639268, 0.9763001870972765, 0.9755393410165465, 0.9714570817058459, 0.17940509506232824, 0.7991681507321894, 0.960009196884037, 0.9791859137800705, 0.9857642448401501, 0.9820320443288788, 0.5591382976578939, 0.2720132258876241, 0.15111845882645783, 0.9833216520075553, 0.9940111940391666, 0.025542116407508576, 0.7407213758177487, 0.22987904766757716, 0.1285079093251693, 0.8610029924786343, 0.9655525187552677, 0.2444938172224498, 0.008731922043658922, 0.7422133737110084, 0.9784567349420801, 0.9829687424193443, 0.6240343643441343, 0.3565910653395053, 0.9896240158837635, 0.9471750003560979, 0.32902096907010847, 0.6580419381402169, 0.32216263540742934, 0.6658027798420206, 0.952198393072598, 0.22615830242296284, 0.7463223979957774, 0.9643016993922547, 0.964933936641796, 0.9896366042371791, 0.977876325121196, 0.953347004546272, 0.9770245465371161, 0.9708444391646315, 0.990738579539518, 0.9772284091873147, 0.9873481607118312, 0.9297208912883457, 0.9928929845990445, 0.9893786981099101, 0.9866042255456932, 0.9737632236950012, 0.012021768193765447, 0.9888329593027738, 0.9725610446894223, 0.9798409288500148, 0.991781459265769, 0.12491201161016147, 0.8535654126694366, 0.020818668601693575, 0.22738905804612333, 0.08662440306518984, 0.6713391237552213, 0.970517015912654, 0.9762233459166808, 0.9648605337103224, 0.22743281245674796, 0.07581093748558265, 0.5610009373933116, 0.07581093748558265, 0.053067656239907855, 0.9958763335742618, 0.996625055521676, 0.8591364552302659, 0.11987950538096734, 0.9340360514160784, 0.9922007517152581, 0.990507289797027, 0.09970651458068991, 0.24046865281225213, 0.38123079104381435, 0.2697940982771609, 0.9842206310291916, 0.9643466241478813, 0.010973920989948564, 0.007315947326632375, 0.9766789681054222, 0.9497188508805172, 0.961072563633965, 0.08329537301720233, 0.7937559075756927, 0.08819510084174363, 0.03429809477178919, 0.24765598012667173, 0.5660708117181068, 0.15920741579571754, 0.26468490368365366, 0.7329735794316562, 0.9856093425752056, 0.9818916531231626, 0.983265391942535, 0.9805597209918845, 0.39504067068996174, 0.03591278824454198, 0.5566482177904006, 0.9507585651297916, 0.9855870139352411, 0.9509870492363238, 0.9471994436927105, 0.15370310173776253, 0.8299967493839177, 0.9470069511672211, 0.00816385302730363, 0.04081926513651815, 0.9639245448585078, 0.8466513372469138, 0.15104577847597522, 0.9913451088199965, 0.9686990458096663, 0.15342180431877228, 0.17434295945315031, 0.19526411458752835, 0.47421284971256883, 0.7783552283236361, 0.2060352074974331, 0.8063588788446625, 0.08063588788446625, 0.09855497408101431, 0.9832691041103522, 0.9727361030816762, 0.9871883957992897, 0.9835082878075186, 0.990538540612198, 0.9818706085931598, 0.9575641175121143, 0.9615808191579782, 0.967029179207686, 0.9798827957018696, 0.965616078758132, 0.989546147051685, 0.9799691101334758, 0.2151690059475206, 0.5648186406122415, 0.1882728802040805, 0.013448062871720037, 0.9354451301244674, 0.2339192504579632, 0.7212510222453865, 0.03898654174299386, 0.9461093071526011, 0.03504108545009634, 0.9853117981989923, 0.8363771850228802, 0.15054789330411844, 0.977400416992904, 0.9838803111806993, 0.25010127799644355, 0.7294620608229603, 0.994888838112867, 0.9817303225095806, 0.9726876588420877, 0.9705924205466624, 0.9708354756882056, 0.9920518358373334, 0.2634588559131748, 0.7318301553143745, 0.6855730962112903, 0.141147402161148, 0.17139327405282256, 0.9865379334334818, 0.9560049586326964, 0.9765546449762419, 0.9648919989442326, 0.9813148699364541, 0.7270591463483256, 0.26708295171979307, 0.6494442639942724, 0.3247221319971362, 0.9467307803270201, 0.994653590341968, 0.9800147190602952, 0.971106949551085, 0.9915390102605605, 0.966569000926979, 0.9494675848024962, 0.9425132399064707, 0.981673202089327, 0.9866039510957725, 0.9114884163809218, 0.08286258330735653, 0.9679475749586356, 0.9811972155822113, 0.2931137990112451, 0.6961452726517072, 0.012036306108521862, 0.1925808977363498, 0.7943962031624429, 0.9846165396889924, 0.979225793220396, 0.9666122033812751, 0.9489419275162227, 0.9713978516735536, 0.887411890013823, 0.0887411890013823, 0.30077521474562063, 0.6874862051328471, 0.9713854059987976, 0.9771062656588454, 0.9841438861112983, 0.12859320039315364, 0.8358558025554987, 0.9703783425805126, 0.9899007621171098, 0.9609399796645353, 0.9809681723594801, 0.9652853334051966, 0.13099431200482986, 0.8608197646031676, 0.06177493241272848, 0.9266239861909272, 0.9704240042632916, 0.9895868373497183, 0.19518539790775577, 0.14638904843081682, 0.029277809686163364, 0.4391671452924505, 0.09759269895387788, 0.07807415916310231, 0.09749249253856422, 0.032497497512854745, 0.8449349353342233, 0.9702227126634657, 0.9647568277555117, 0.9938921335861023, 0.9839555714043775, 0.9803825748083966, 0.9618359859651248, 0.9718944904832844, 0.22114486115992923, 0.7625684867583766, 0.015251369735167533, 0.1881271674352168, 0.0268753096336024, 0.7525086697408672, 0.9562486442948893, 0.8604592678938149, 0.1303726163475477, 0.6886120162711068, 0.016014232936537368, 0.2882561928576726, 0.9724974637126373, 0.9861154303338138, 0.9641082904871892, 0.984815687266846, 0.9829804260564654, 0.9579222333049953, 0.993037327693048, 0.9551425503547007, 0.9686388090629815, 0.9702553994322209, 0.8566442010067475, 0.11576272986577668, 0.9761384934288238, 0.9801325229158196, 0.9695304676622024, 0.9593977755168583, 0.9687077930306189, 0.9685643334060589, 0.9864712310041358, 0.9750325594302491, 0.6768289741242453, 0.09986001257570831, 0.21081558210427312, 0.01169707256106654, 0.2456385237823973, 0.7252184987861254, 0.9749442586115522, 0.9815642488711044, 0.9039700412369669, 0.03615880164947868, 0.9918714905814618, 0.9842552899704887, 0.9684142922342854, 0.989296196775414, 0.97202575868447, 0.8694077071677306, 0.10350091751996793, 0.9816945827561692, 0.9596514929790497, 0.9411192987048069, 0.03485627032240026, 0.9881600350297775, 0.9744509080275874, 0.9829749494139174, 0.9767554563693283, 0.9874172691488065, 0.9755195509979194, 0.9574432084878887, 0.9860588157369231, 0.9744485962533426, 0.9591130582011135, 0.7295972602582997, 0.2612138339196382, 0.9828404071171984, 0.002975175408247622, 0.6694144668557149, 0.1457835950041335, 0.0267765786742286, 0.1487587704123811, 0.9785589789039133, 0.9926741320493746, 0.0038371866225781113, 0.15732465152570255, 0.6753448455737475, 0.16116183814828067, 0.9853857002450639, 0.9915708680083671, 0.9873721055777591, 0.9598313030538497, 0.9811589730991821, 0.9851400766597624, 0.9705263575554014, 0.12507912469770377, 0.7087817066203213, 0.166772166263605, 0.9685641919273521, 0.9909652465529721, 0.974952008872716, 0.986055925117557, 0.9478150901433093, 0.978621976162414, 0.8640738328945367, 0.1329344358299287, 0.99054733389612, 0.9885330751806407, 0.9618852024967508, 0.9812132252369228, 0.9603762451360545, 0.9729644444273887, 0.9780025364147404, 0.9858874550702494, 0.9767415280232596, 0.9619357114390131, 0.9466558218879803, 0.1952750531246718, 0.7811002124986872, 0.9698167807145677, 0.9852747320891438, 0.7233824964301313, 0.2652402486910482, 0.5390301179279712, 0.17518478832659062, 0.2695150589639856, 0.9802261824067119, 0.9517158766975148, 0.9804409559511367, 0.960742853198492, 0.03894903458912805, 0.1403519354337618, 0.22966680343706475, 0.5996855423078913, 0.012759266857614707, 0.9736524435691246, 0.986730074492189, 0.029165822825402987, 0.9624721532382986, 0.9666060661037152, 0.9823717386270729, 0.9729024693628888, 0.9307731519649165, 0.9792832063104829, 0.9446063810304275, 0.9639658985953478, 0.9811949381755682, 0.9783631997371817, 0.06162051058531114, 0.07702563823163892, 0.015405127646327786, 0.15405127646327785, 0.6778256164384225, 0.3433998976967257, 0.6410131423672213, 0.9751087782579922, 0.9711382785450582, 0.05147719098470525, 0.9437485013862628, 0.9704018366611884, 0.9880461017170635, 0.9809087471092905, 0.8297033426761425, 0.14519808496832495, 0.9723447802435355, 0.9535189473146127, 0.9730949288413197, 0.1388478635921136, 0.8529225906372692, 0.78086955587579, 0.21071083253791156, 0.3451846413807545, 0.63283850919805, 0.9414697522745844, 0.9602316299015506, 0.965151028427088, 0.9769932551471393, 0.9887603365650466, 0.9665471391162664, 0.9564061777336216, 0.9533314181949194, 0.9842173730267093, 0.9669370827456854, 0.9779855573565321, 0.9794275555989199, 0.992396638163026, 0.9896115124338674, 0.7287211999193676, 0.2623396319709723, 0.9602769426837421, 0.9975580785587547, 0.978066574784807, 0.9955918582698229, 0.1345210889921868, 0.8575719423251907, 0.21207550405049747, 0.6979212042389098, 0.08868611987566258, 0.7069533139570222, 0.28660269484744144, 0.12265897412385722, 0.8279480753360362, 0.9741248866457023, 0.9107747620053407, 0.07834621608648093, 0.9595226482319702, 0.9835225906991124, 0.9671286178280247, 0.8715001311055269, 0.09683334790061411, 0.17705229955176482, 0.7967353479829418, 0.9904986934066444, 0.7714306391702347, 0.22227662484566085, 0.1527237707093797, 0.8247083618306504, 0.9751128135240958, 0.9464751496395587, 0.9812537422688734, 0.9519326265966933, 0.9581107365975654, 0.9631654943241951, 0.9841806760309438, 0.9587004820945737, 0.9690234498614853, 0.9751980656070994, 0.9576448669511982, 0.972159199993248, 0.2361404035888999, 0.7421555541365426, 0.9687480743114073, 0.9807219610770573, 0.9767887545845333, 0.949606401552034, 0.8493997565213475, 0.14680983446047982, 0.9787242875696153, 0.977254552117451, 0.9735265647614573, 0.9415663268633584, 0.09147477505287469, 0.9056002730234594, 0.5693299249248542, 0.12726198321849683, 0.12056398410173383, 0.17414797703583776, 0.9623352784122189, 0.24284187738482596, 0.015177617336551623, 0.1365985560289646, 0.5919270761255133, 0.08308642081126173, 0.08308642081126173, 0.8031687345088634, 0.17696705903500587, 0.6193847066225205, 0.17696705903500587, 0.9715815945000179, 0.6972501454026999, 0.2949904461319115, 0.9604498344541796, 0.960337874901201, 0.9829726374052424, 0.008628933762985168, 0.9836984489803091, 0.8868973301912765, 0.08062703001738877, 0.11447790164235049, 0.8741948852688582, 0.9818010470598921, 0.9671757110649871, 0.962281262004791, 0.8637393376465536, 0.12796138335504498, 0.8935963718137171, 0.09928848575707967, 0.3277016282356709, 0.6554032564713418], \"Term\": [\"able\", \"able\", \"absence\", \"absolutely\", \"accomplished\", \"account\", \"account\", \"account\", \"account\", \"account\", \"acquaintance\", \"act\", \"action\", \"admitted\", \"age\", \"ah\", \"air\", \"air\", \"air\", \"air\", \"alas\", \"altogether\", \"amid\", \"amid\", \"angles\", \"animal\", \"answer\", \"antagonist\", \"apartment\", \"apparent\", \"apparent\", \"appear\", \"appearance\", \"appeared\", \"applied\", \"arms\", \"arose\", \"arrested\", \"arrived\", \"art\", \"articles\", \"artist\", \"asked\", \"astonishment\", \"atmosphere\", \"attempt\", \"attempt\", \"attention\", \"attention\", \"attention\", \"attention\", \"attention\", \"author\", \"automaton\", \"automaton\", \"away\", \"balloon\", \"balloon\", \"baron\", \"bear\", \"beautiful\", \"beautiful\", \"beauty\", \"beauty\", \"beauty\", \"bed\", \"began\", \"behold\", \"believe\", \"beneath\", \"beneath\", \"beneath\", \"best\", \"best\", \"big\", \"black\", \"black\", \"blood\", \"board\", \"boat\", \"bodies\", \"body\", \"body\", \"book\", \"box\", \"box\", \"brain\", \"breath\", \"breath\", \"brief\", \"brief\", \"brought\", \"brought\", \"bug\", \"building\", \"business\", \"called\", \"came\", \"captain\", \"car\", \"car\", \"care\", \"case\", \"case\", \"case\", \"case\", \"cat\", \"caught\", \"certain\", \"certain\", \"certain\", \"certain\", \"chair\", \"chamber\", \"chamber\", \"character\", \"character\", \"characters\", \"chess\", \"circumstance\", \"circumstances\", \"circumstances\", \"city\", \"clear\", \"clear\", \"clock\", \"close\", \"come\", \"coming\", \"committed\", \"committed\", \"companion\", \"company\", \"compartment\", \"comprehend\", \"conceive\", \"conceived\", \"condition\", \"condition\", \"consequence\", \"consider\", \"consideration\", \"considered\", \"contemplation\", \"continued\", \"conversation\", \"corner\", \"corpse\", \"countenance\", \"countenance\", \"countenance\", \"countenance\", \"country\", \"course\", \"course\", \"curiosity\", \"cut\", \"danger\", \"dark\", \"darkness\", \"dat\", \"daughter\", \"day\", \"day\", \"days\", \"days\", \"days\", \"dead\", \"dear\", \"death\", \"death\", \"deep\", \"degree\", \"degree\", \"departed\", \"deposited\", \"descent\", \"design\", \"despair\", \"details\", \"did\", \"diddler\", \"died\", \"difficult\", \"difficulty\", \"difficulty\", \"direct\", \"discovery\", \"does\", \"dog\", \"doing\", \"don\", \"door\", \"doors\", \"doubt\", \"doubt\", \"doubt\", \"doubt\", \"dr\", \"drawer\", \"drawing\", \"dream\", \"dreams\", \"dupin\", \"early\", \"earth\", \"earth\", \"easily\", \"editor\", \"effect\", \"effort\", \"ellison\", \"employed\", \"end\", \"end\", \"entered\", \"entire\", \"entire\", \"entirely\", \"equal\", \"escape\", \"especially\", \"et\", \"evening\", \"evident\", \"evident\", \"evil\", \"example\", \"example\", \"exceedingly\", \"existence\", \"expected\", \"explanation\", \"expression\", \"extreme\", \"eye\", \"eye\", \"eyes\", \"eyes\", \"eyes\", \"eyes\", \"face\", \"fact\", \"failed\", \"fall\", \"fallen\", \"family\", \"far\", \"far\", \"far\", \"fashion\", \"fear\", \"fearful\", \"feel\", \"feeling\", \"feelings\", \"feet\", \"fell\", \"fell\", \"fell\", \"felt\", \"figure\", \"filled\", \"finally\", \"finally\", \"fine\", \"followed\", \"folly\", \"foot\", \"force\", \"force\", \"force\", \"force\", \"forever\", \"forgotten\", \"form\", \"formed\", \"forms\", \"forthwith\", \"fourth\", \"frame\", \"frequently\", \"friend\", \"friend\", \"friends\", \"fully\", \"fully\", \"game\", \"gas\", \"gave\", \"gave\", \"gave\", \"general\", \"genius\", \"gentle\", \"gentleman\", \"gentlemen\", \"getting\", \"gigantic\", \"girl\", \"given\", \"glance\", \"glass\", \"god\", \"god\", \"god\", \"going\", \"going\", \"gold\", \"good\", \"grace\", \"great\", \"great\", \"great\", \"greater\", \"greatest\", \"greatly\", \"green\", \"grew\", \"ground\", \"ground\", \"ha\", \"hair\", \"half\", \"hand\", \"hand\", \"hands\", \"happy\", \"having\", \"having\", \"head\", \"heard\", \"heard\", \"heart\", \"heaven\", \"height\", \"help\", \"high\", \"high\", \"hitherto\", \"home\", \"hope\", \"horror\", \"hour\", \"hour\", \"hour\", \"hours\", \"house\", \"huge\", \"huge\", \"huge\", \"human\", \"human\", \"hung\", \"idea\", \"idea\", \"idea\", \"ill\", \"imagination\", \"immediate\", \"immediate\", \"immediately\", \"important\", \"impossible\", \"impossible\", \"inches\", \"inches\", \"increased\", \"individual\", \"individual\", \"influence\", \"instance\", \"instant\", \"intellect\", \"intended\", \"intervals\", \"jupiter\", \"just\", \"kept\", \"kind\", \"king\", \"knew\", \"know\", \"knowledge\", \"known\", \"known\", \"lady\", \"lalande\", \"language\", \"large\", \"late\", \"late\", \"late\", \"lay\", \"lay\", \"lay\", \"le\", \"leave\", \"led\", \"left\", \"left\", \"left\", \"left\", \"left\", \"length\", \"let\", \"letter\", \"letter\", \"letters\", \"life\", \"light\", \"like\", \"like\", \"like\", \"like\", \"line\", \"lips\", \"little\", \"little\", \"little\", \"living\", \"lollipop\", \"long\", \"long\", \"long\", \"long\", \"longer\", \"longer\", \"longer\", \"look\", \"look\", \"looked\", \"looking\", \"lost\", \"loud\", \"machine\", \"machine\", \"machine\", \"machinery\", \"madame\", \"maelzel\", \"magnificent\", \"main\", \"main\", \"make\", \"make\", \"make\", \"makes\", \"man\", \"man\", \"manner\", \"marie\", \"matter\", \"matter\", \"matter\", \"matter\", \"mean\", \"mean\", \"means\", \"means\", \"means\", \"meantime\", \"measure\", \"men\", \"mentioned\", \"mere\", \"merely\", \"met\", \"middle\", \"midnight\", \"miles\", \"mille\", \"mind\", \"minute\", \"minutes\", \"minutes\", \"minutes\", \"minutes\", \"mode\", \"moment\", \"moment\", \"moment\", \"money\", \"money\", \"monsieur\", \"moon\", \"moon\", \"morning\", \"motion\", \"mouth\", \"mouth\", \"mr\", \"mrs\", \"murder\", \"mystery\", \"narrow\", \"natural\", \"nature\", \"nature\", \"nearly\", \"nearly\", \"nearly\", \"necessary\", \"necessity\", \"neck\", \"need\", \"new\", \"night\", \"night\", \"nose\", \"nose\", \"notice\", \"object\", \"objects\", \"observation\", \"observed\", \"obtained\", \"obvious\", \"occasion\", \"occasioned\", \"occurred\", \"odd\", \"odd\", \"offered\", \"oh\", \"old\", \"old\", \"open\", \"open\", \"open\", \"opened\", \"opinion\", \"opinions\", \"opposite\", \"order\", \"ordinary\", \"ordinary\", \"original\", \"original\", \"pain\", \"palace\", \"particular\", \"party\", \"party\", \"pass\", \"passed\", \"patient\", \"peculiar\", \"people\", \"perceive\", \"perceive\", \"perceived\", \"perceived\", \"perfect\", \"period\", \"person\", \"person\", \"person\", \"person\", \"person\", \"person\", \"personal\", \"personal\", \"personal\", \"persons\", \"piece\", \"place\", \"placed\", \"player\", \"pleasure\", \"pocket\", \"point\", \"point\", \"point\", \"points\", \"points\", \"points\", \"police\", \"portion\", \"portion\", \"position\", \"position\", \"position\", \"positive\", \"possible\", \"possibly\", \"power\", \"precisely\", \"presence\", \"present\", \"presented\", \"principle\", \"proceed\", \"proceeded\", \"proceeded\", \"prodigious\", \"profound\", \"proper\", \"properly\", \"proportion\", \"proved\", \"purpose\", \"quantity\", \"question\", \"question\", \"question\", \"quite\", \"quite\", \"quite\", \"rays\", \"reached\", \"read\", \"read\", \"really\", \"reason\", \"reference\", \"regard\", \"regarded\", \"remained\", \"remained\", \"remember\", \"remembered\", \"rendered\", \"rendered\", \"replied\", \"resolved\", \"respect\", \"result\", \"return\", \"reward\", \"rich\", \"right\", \"river\", \"rog\\u00eat\", \"room\", \"room\", \"round\", \"said\", \"said\", \"said\", \"said\", \"said\", \"sat\", \"saw\", \"say\", \"say\", \"say\", \"say\", \"says\", \"scarcely\", \"sea\", \"search\", \"seat\", \"second\", \"secret\", \"seen\", \"seen\", \"seen\", \"self\", \"sense\", \"senses\", \"sentiment\", \"series\", \"set\", \"shadow\", \"shadow\", \"shall\", \"ship\", \"shore\", \"short\", \"silence\", \"similar\", \"simple\", \"single\", \"singular\", \"sir\", \"situation\", \"size\", \"size\", \"skull\", \"sleep\", \"slight\", \"slight\", \"small\", \"small\", \"small\", \"smith\", \"solution\", \"somewhat\", \"soon\", \"soon\", \"soul\", \"soul\", \"soul\", \"soul\", \"sound\", \"speak\", \"spirit\", \"spirit\", \"spoken\", \"spot\", \"st\", \"stage\", \"state\", \"steadily\", \"step\", \"steps\", \"stone\", \"stood\", \"stood\", \"stood\", \"stood\", \"stood\", \"strange\", \"strange\", \"street\", \"strong\", \"subject\", \"subject\", \"succeeded\", \"suddenly\", \"sufficient\", \"sufficiently\", \"sufficiently\", \"sun\", \"sunday\", \"suppose\", \"supposed\", \"supposed\", \"sure\", \"sure\", \"surface\", \"surface\", \"surprise\", \"suspicion\", \"sweet\", \"table\", \"taken\", \"taking\", \"te\", \"teeth\", \"tell\", \"termed\", \"terrible\", \"terror\", \"thing\", \"things\", \"think\", \"think\", \"thou\", \"thought\", \"thoughts\", \"thousand\", \"thrown\", \"thrown\", \"time\", \"time\", \"time\", \"times\", \"times\", \"told\", \"told\", \"tone\", \"took\", \"took\", \"total\", \"town\", \"tree\", \"trees\", \"trees\", \"trouble\", \"trouble\", \"true\", \"truth\", \"truth\", \"turn\", \"turn\", \"turned\", \"turning\", \"understand\", \"understood\", \"unknown\", \"upper\", \"usual\", \"usually\", \"vague\", \"vain\", \"valley\", \"various\", \"vast\", \"vast\", \"vicinity\", \"view\", \"violence\", \"visible\", \"voice\", \"voice\", \"von\", \"wall\", \"walls\", \"watch\", \"water\", \"water\", \"way\", \"way\", \"way\", \"way\", \"weight\", \"went\", \"went\", \"went\", \"went\", \"white\", \"white\", \"white\", \"wife\", \"wife\", \"wife\", \"window\", \"wish\", \"wish\", \"woman\", \"wonder\", \"word\", \"words\", \"words\", \"work\", \"work\", \"world\", \"world\", \"write\", \"wyatt\", \"year\", \"years\", \"years\", \"yes\", \"yes\", \"young\", \"young\"]}, \"R\": 30, \"lambda.step\": 0.01, \"plot.opts\": {\"xlab\": \"PC1\", \"ylab\": \"PC2\"}, \"topic.order\": [9, 11, 12, 3, 6, 2, 14, 15, 5, 1, 10, 4, 7, 8, 13]};\n",
       "\n",
       "function LDAvis_load_lib(url, callback){\n",
       "  var s = document.createElement('script');\n",
       "  s.src = url;\n",
       "  s.async = true;\n",
       "  s.onreadystatechange = s.onload = callback;\n",
       "  s.onerror = function(){console.warn(\"failed to load library \" + url);};\n",
       "  document.getElementsByTagName(\"head\")[0].appendChild(s);\n",
       "}\n",
       "\n",
       "if(typeof(LDAvis) !== \"undefined\"){\n",
       "   // already loaded: just create the visualization\n",
       "   !function(LDAvis){\n",
       "       new LDAvis(\"#\" + \"ldavis_el2047217523009600489776206184\", ldavis_el2047217523009600489776206184_data);\n",
       "   }(LDAvis);\n",
       "}else if(typeof define === \"function\" && define.amd){\n",
       "   // require.js is available: use it to load d3/LDAvis\n",
       "   require.config({paths: {d3: \"https://cdnjs.cloudflare.com/ajax/libs/d3/3.5.5/d3.min\"}});\n",
       "   require([\"d3\"], function(d3){\n",
       "      window.d3 = d3;\n",
       "      LDAvis_load_lib(\"https://cdn.rawgit.com/bmabey/pyLDAvis/files/ldavis.v1.0.0.js\", function(){\n",
       "        new LDAvis(\"#\" + \"ldavis_el2047217523009600489776206184\", ldavis_el2047217523009600489776206184_data);\n",
       "      });\n",
       "    });\n",
       "}else{\n",
       "    // require.js not available: dynamically load d3 & LDAvis\n",
       "    LDAvis_load_lib(\"https://cdnjs.cloudflare.com/ajax/libs/d3/3.5.5/d3.min.js\", function(){\n",
       "         LDAvis_load_lib(\"https://cdn.rawgit.com/bmabey/pyLDAvis/files/ldavis.v1.0.0.js\", function(){\n",
       "                 new LDAvis(\"#\" + \"ldavis_el2047217523009600489776206184\", ldavis_el2047217523009600489776206184_data);\n",
       "            })\n",
       "         });\n",
       "}\n",
       "</script>"
      ],
      "text/plain": [
       "PreparedData(topic_coordinates=            Freq  cluster  topics         x         y\n",
       "topic                                                \n",
       "8      10.188440        1       1 -0.145036 -0.166549\n",
       "10      7.858091        1       2  0.123416 -0.064581\n",
       "11      7.752683        1       3 -0.152267 -0.107478\n",
       "2       7.028311        1       4 -0.047439 -0.047529\n",
       "5       6.936625        1       5  0.185128 -0.142400\n",
       "1       6.936236        1       6  0.105129 -0.091808\n",
       "13      6.553366        1       7 -0.168627 -0.040964\n",
       "14      6.526210        1       8 -0.212929 -0.045300\n",
       "4       6.523457        1       9  0.174196 -0.127329\n",
       "0       6.104578        1      10  0.006008  0.016973\n",
       "9       5.991609        1      11  0.154133  0.104900\n",
       "3       5.661671        1      12 -0.009239  0.137047\n",
       "6       5.571072        1      13  0.065195  0.129608\n",
       "7       5.487093        1      14 -0.003022  0.232176\n",
       "12      4.880557        1      15 -0.074646  0.213233, topic_info=     Category        Freq           Term       Total  loglift  logprob\n",
       "term                                                                  \n",
       "508   Default  273.000000         little  273.000000  30.0000  30.0000\n",
       "778   Default  336.000000           said  336.000000  29.0000  29.0000\n",
       "498   Default  181.000000         length  181.000000  28.0000  28.0000\n",
       "213   Default  194.000000            did  194.000000  27.0000  27.0000\n",
       "908   Default  172.000000        thought  172.000000  26.0000  26.0000\n",
       "916   Default  259.000000           time  259.000000  25.0000  25.0000\n",
       "784   Default  260.000000            say  260.000000  24.0000  24.0000\n",
       "585   Default  171.000000             mr  171.000000  23.0000  23.0000\n",
       "537   Default  251.000000            man  251.000000  22.0000  22.0000\n",
       "409   Default  160.000000           head  160.000000  21.0000  21.0000\n",
       "901   Default  142.000000          thing  142.000000  20.0000  20.0000\n",
       "499   Default  138.000000            let  138.000000  19.0000  19.0000\n",
       "513   Default  204.000000           long  204.000000  18.0000  18.0000\n",
       "393   Default  213.000000          great  213.000000  17.0000  17.0000\n",
       "190   Default  171.000000            day  171.000000  16.0000  16.0000\n",
       "179   Default  127.000000         course  127.000000  15.0000  15.0000\n",
       "388   Default  139.000000           good  139.000000  14.0000  14.0000\n",
       "565   Default  128.000000           mind  128.000000  13.0000  13.0000\n",
       "408   Default  183.000000         having  183.000000  12.0000  12.0000\n",
       "807   Default  126.000000          shall  126.000000  11.0000  11.0000\n",
       "473   Default  131.000000           just  131.000000  10.0000  10.0000\n",
       "303   Default  115.000000           fact  115.000000   9.0000   9.0000\n",
       "235   Default  114.000000           door  114.000000   8.0000   8.0000\n",
       "988   Default  115.000000          words  115.000000   7.0000   7.0000\n",
       "115   Default  127.000000           came  127.000000   6.0000   6.0000\n",
       "369   Default  114.000000        general  114.000000   5.0000   5.0000\n",
       "538   Default  108.000000         manner  108.000000   4.0000   4.0000\n",
       "534   Default  122.000000           make  122.000000   3.0000   3.0000\n",
       "502   Default  106.000000           life  106.000000   2.0000   2.0000\n",
       "626   Default  136.000000            old  136.000000   1.0000   1.0000\n",
       "...       ...         ...            ...         ...      ...      ...\n",
       "933   Topic15   67.482792         turned   68.709999   3.0019  -3.3796\n",
       "587   Topic15   38.136075         murder   39.067012   2.9958  -3.9503\n",
       "290   Topic15   36.602590      existence   37.517512   2.9952  -3.9913\n",
       "507   Topic15   36.416980           lips   37.330975   2.9951  -3.9964\n",
       "94    Topic15   34.229086         bodies   35.143438   2.9935  -4.0584\n",
       "713   Topic15   33.146099     proportion   34.066000   2.9925  -4.0905\n",
       "791   Topic15   32.406662         search   33.339192   2.9915  -4.1131\n",
       "971   Topic15   31.299480         weight   32.213305   2.9911  -4.1479\n",
       "954   Topic15   31.047927       vicinity   32.000064   2.9897  -4.1559\n",
       "657   Topic15   40.103546         people   41.438525   2.9872  -3.9000\n",
       "562   Topic15   25.969319       midnight   26.886469   2.9852  -4.3345\n",
       "59    Topic15   25.429707          asked   26.349637   2.9844  -4.3555\n",
       "305   Topic15   25.077371         failed   25.992331   2.9841  -4.3695\n",
       "813   Topic15   25.114510        silence   26.031464   2.9841  -4.3680\n",
       "763   Topic15   24.711951         reward   25.627370   2.9835  -4.3842\n",
       "341   Topic15   23.983535          folly   24.913868   2.9819  -4.4141\n",
       "690   Topic15   22.937018       possibly   23.856241   2.9806  -4.4587\n",
       "623   Topic15   22.845027        offered   23.761617   2.9806  -4.4627\n",
       "170   Topic15   20.260320  contemplation   21.174122   2.9758  -4.5828\n",
       "407   Topic15   20.142662          happy   21.056632   2.9755  -4.5886\n",
       "750   Topic15   19.922649     remembered   20.840899   2.9749  -4.5996\n",
       "851   Topic15   19.498629          stage   20.413137   2.9741  -4.6211\n",
       "149   Topic15   32.055881      committed   33.583307   2.9734  -4.1240\n",
       "51    Topic15   21.773623       arrested   22.819677   2.9730  -4.5108\n",
       "118   Topic15   34.213424            car   46.375434   2.7158  -4.0588\n",
       "455   Topic15   33.012677     individual   44.216816   2.7277  -4.0946\n",
       "679   Topic15   28.396085         points   37.208874   2.7496  -4.2452\n",
       "25    Topic15   47.748986            air  101.523205   2.2656  -3.7255\n",
       "638   Topic15   31.747977       original   46.546389   2.6373  -4.1336\n",
       "408   Topic15   35.898323         having  183.691628   1.3873  -4.0108\n",
       "\n",
       "[651 rows x 6 columns], token_table=      Topic      Freq          Term\n",
       "term                               \n",
       "0         6  0.131357          able\n",
       "0        12  0.853823          able\n",
       "1        10  0.958454       absence\n",
       "3        11  0.985932    absolutely\n",
       "5        11  0.976518  accomplished\n",
       "6         2  0.014532       account\n",
       "6         3  0.188910       account\n",
       "6         7  0.290632       account\n",
       "6         9  0.058126       account\n",
       "6        10  0.450479       account\n",
       "7         7  0.984209  acquaintance\n",
       "8        14  0.982923           act\n",
       "9         2  0.959537        action\n",
       "14       11  0.972138      admitted\n",
       "19        7  0.987778           age\n",
       "23       11  0.975863            ah\n",
       "25        1  0.167449           air\n",
       "25       11  0.147749           air\n",
       "25       14  0.206849           air\n",
       "25       15  0.472798           air\n",
       "26        8  0.952518          alas\n",
       "29        5  0.987567    altogether\n",
       "30        4  0.927724          amid\n",
       "30        7  0.038655          amid\n",
       "35        6  0.970304        angles\n",
       "36       12  0.965790        animal\n",
       "37        9  0.974601        answer\n",
       "38        7  0.940197    antagonist\n",
       "40        6  0.965036     apartment\n",
       "41        6  0.173270      apparent\n",
       "...     ...       ...           ...\n",
       "972       3  0.015178          went\n",
       "972       4  0.136599          went\n",
       "972       7  0.591927          went\n",
       "974       3  0.083086         white\n",
       "974       8  0.083086         white\n",
       "974      12  0.803169         white\n",
       "976       6  0.176967          wife\n",
       "976      13  0.619385          wife\n",
       "976      15  0.176967          wife\n",
       "980      12  0.971582        window\n",
       "983       6  0.697250          wish\n",
       "983       7  0.294990          wish\n",
       "984       1  0.960450         woman\n",
       "985       4  0.960338        wonder\n",
       "987       3  0.982973          word\n",
       "988       8  0.008629         words\n",
       "988      11  0.983698         words\n",
       "989       1  0.886897          work\n",
       "989       5  0.080627          work\n",
       "990       1  0.114478         world\n",
       "990      11  0.874195         world\n",
       "991      10  0.981801         write\n",
       "995      13  0.967176         wyatt\n",
       "996      14  0.962281          year\n",
       "997       1  0.863739         years\n",
       "997       7  0.127961         years\n",
       "998       6  0.893596           yes\n",
       "998      11  0.099288           yes\n",
       "999       1  0.327702         young\n",
       "999       9  0.655403         young\n",
       "\n",
       "[839 rows x 3 columns], R=30, lambda_step=0.01, plot_opts={'xlab': 'PC1', 'ylab': 'PC2'}, topic_order=[9, 11, 12, 3, 6, 2, 14, 15, 5, 1, 10, 4, 7, 8, 13])"
      ]
     },
     "execution_count": 113,
     "metadata": {},
     "output_type": "execute_result"
    }
   ],
   "source": [
    "pyLDAvis.sklearn.prepare(lda_eap, dtm_tf_eap, tf_vectorizer)"
   ]
  },
  {
   "cell_type": "code",
   "execution_count": 101,
   "metadata": {
    "collapsed": true
   },
   "outputs": [],
   "source": [
    "def get_topics(model, feature_names, no_top_words):\n",
    "    topic_summ = []\n",
    "    for topic_idx, topic in enumerate(model.components_):\n",
    "        #t_idx = '{0}'.format(topic_idx)\n",
    "        s = ' '.join([feature_names[i] for i in topic.argsort()[:-no_top_words - 1:-1]])\n",
    "        topic_summ.append(s)\n",
    "    return(topic_summ)"
   ]
  },
  {
   "cell_type": "code",
   "execution_count": null,
   "metadata": {
    "collapsed": true
   },
   "outputs": [],
   "source": []
  }
 ],
 "metadata": {
  "kernelspec": {
   "display_name": "Python 3",
   "language": "python",
   "name": "python3"
  },
  "language_info": {
   "codemirror_mode": {
    "name": "ipython",
    "version": 3
   },
   "file_extension": ".py",
   "mimetype": "text/x-python",
   "name": "python",
   "nbconvert_exporter": "python",
   "pygments_lexer": "ipython3",
   "version": "3.6.1"
  }
 },
 "nbformat": 4,
 "nbformat_minor": 2
}
