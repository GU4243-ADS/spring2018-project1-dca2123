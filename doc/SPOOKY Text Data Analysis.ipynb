{
 "cells": [
  {
   "cell_type": "code",
   "execution_count": 6,
   "metadata": {
    "collapsed": true
   },
   "outputs": [],
   "source": [
    "#import libraries\n",
    "import pandas as pd\n",
    "import numpy as np\n",
    "import matplotlib.pyplot as plt\n",
    "#the following two lines come from https://medium.com/mlreview/topic-modeling-with-scikit-learn-e80d33668730\n",
    "from sklearn.feature_extraction.text import TfidfVectorizer,CountVectorizer\n",
    "from sklearn.decomposition import NMF,LatentDirichletAllocation"
   ]
  },
  {
   "cell_type": "markdown",
   "metadata": {},
   "source": [
    "# SPOOKY Text Data Analysis"
   ]
  },
  {
   "cell_type": "markdown",
   "metadata": {},
   "source": [
    "## Data Retrieval and Cleaning"
   ]
  },
  {
   "cell_type": "code",
   "execution_count": 7,
   "metadata": {
    "collapsed": false
   },
   "outputs": [],
   "source": [
    "spooky = pd.read_csv('..\\data\\spooky.csv', sep=',', header = 0)"
   ]
  },
  {
   "cell_type": "code",
   "execution_count": 8,
   "metadata": {
    "collapsed": false
   },
   "outputs": [
    {
     "data": {
      "text/html": [
       "<div>\n",
       "<style>\n",
       "    .dataframe thead tr:only-child th {\n",
       "        text-align: right;\n",
       "    }\n",
       "\n",
       "    .dataframe thead th {\n",
       "        text-align: left;\n",
       "    }\n",
       "\n",
       "    .dataframe tbody tr th {\n",
       "        vertical-align: top;\n",
       "    }\n",
       "</style>\n",
       "<table border=\"1\" class=\"dataframe\">\n",
       "  <thead>\n",
       "    <tr style=\"text-align: right;\">\n",
       "      <th></th>\n",
       "      <th>id</th>\n",
       "      <th>text</th>\n",
       "      <th>author</th>\n",
       "    </tr>\n",
       "  </thead>\n",
       "  <tbody>\n",
       "    <tr>\n",
       "      <th>0</th>\n",
       "      <td>id26305</td>\n",
       "      <td>This process, however, afforded me no means of...</td>\n",
       "      <td>EAP</td>\n",
       "    </tr>\n",
       "    <tr>\n",
       "      <th>1</th>\n",
       "      <td>id17569</td>\n",
       "      <td>It never once occurred to me that the fumbling...</td>\n",
       "      <td>HPL</td>\n",
       "    </tr>\n",
       "    <tr>\n",
       "      <th>2</th>\n",
       "      <td>id11008</td>\n",
       "      <td>In his left hand was a gold snuff box, from wh...</td>\n",
       "      <td>EAP</td>\n",
       "    </tr>\n",
       "    <tr>\n",
       "      <th>3</th>\n",
       "      <td>id27763</td>\n",
       "      <td>How lovely is spring As we looked from Windsor...</td>\n",
       "      <td>MWS</td>\n",
       "    </tr>\n",
       "    <tr>\n",
       "      <th>4</th>\n",
       "      <td>id12958</td>\n",
       "      <td>Finding nothing else, not even gold, the Super...</td>\n",
       "      <td>HPL</td>\n",
       "    </tr>\n",
       "  </tbody>\n",
       "</table>\n",
       "</div>"
      ],
      "text/plain": [
       "        id                                               text author\n",
       "0  id26305  This process, however, afforded me no means of...    EAP\n",
       "1  id17569  It never once occurred to me that the fumbling...    HPL\n",
       "2  id11008  In his left hand was a gold snuff box, from wh...    EAP\n",
       "3  id27763  How lovely is spring As we looked from Windsor...    MWS\n",
       "4  id12958  Finding nothing else, not even gold, the Super...    HPL"
      ]
     },
     "execution_count": 8,
     "metadata": {},
     "output_type": "execute_result"
    }
   ],
   "source": [
    "spooky.head()"
   ]
  },
  {
   "cell_type": "code",
   "execution_count": 9,
   "metadata": {
    "collapsed": false
   },
   "outputs": [
    {
     "data": {
      "text/plain": [
       "(19579, 3)"
      ]
     },
     "execution_count": 9,
     "metadata": {},
     "output_type": "execute_result"
    }
   ],
   "source": [
    "spooky.shape"
   ]
  },
  {
   "cell_type": "code",
   "execution_count": 10,
   "metadata": {
    "collapsed": false
   },
   "outputs": [],
   "source": [
    "eap = spooky.loc[spooky['author'] == 'EAP']\n",
    "hpl = spooky.loc[spooky['author'] == 'HPL']\n",
    "mws = spooky.loc[spooky['author'] == 'MWS']"
   ]
  },
  {
   "cell_type": "code",
   "execution_count": 11,
   "metadata": {
    "collapsed": false
   },
   "outputs": [
    {
     "data": {
      "image/png": "[encoded data removed]",
      "text/plain": [
       "<matplotlib.figure.Figure at 0x197fd955fd0>"
      ]
     },
     "metadata": {},
     "output_type": "display_data"
    }
   ],
   "source": [
    "a_names = ['EAP', 'HPL', 'MWS']\n",
    "y_pos = np.arange(len(a_names))\n",
    "num_sent = [len(eap),len(hpl),len(mws)]\n",
    " \n",
    "plt.bar(y_pos, num_sent, align='center', alpha=1)\n",
    "plt.xticks(y_pos, a_names)\n",
    "plt.xlabel('Author')\n",
    "plt.title('Number of Sentences')\n",
    " \n",
    "plt.show()"
   ]
  },
  {
   "cell_type": "markdown",
   "metadata": {},
   "source": [
    "### Sentiment Analysis"
   ]
  },
  {
   "cell_type": "code",
   "execution_count": null,
   "metadata": {
    "collapsed": true
   },
   "outputs": [],
   "source": [
    "# inspired by http://www.nltk.org/howto/sentiment.html\n",
    "#from nltk.classify import NaiveBayesClassifier\n",
    "#from nltk.corpus import subjectivity\n",
    "#from nltk.sentiment import SentimentAnalyzer"
   ]
  },
  {
   "cell_type": "code",
   "execution_count": 3,
   "metadata": {
    "collapsed": false
   },
   "outputs": [
    {
     "name": "stderr",
     "output_type": "stream",
     "text": [
      "C:\\Users\\David\\Anaconda3\\lib\\site-packages\\nltk\\twitter\\__init__.py:20: UserWarning: The twython library has not been installed. Some functionality from the twitter package will not be available.\n",
      "  warnings.warn(\"The twython library has not been installed. \"\n"
     ]
    }
   ],
   "source": [
    "import nltk\n",
    "from nltk.sentiment.vader import SentimentIntensityAnalyzer\n",
    "\n",
    "def avg_polar_score(sentences,sia):\n",
    "    '''Takes some sentences and a SentimentIntensityAnalyzer object and returns average of their polarity scores'''\n",
    "    n = sentences.size\n",
    "    scores = {\"neg\" : 0,\"neu\" : 0,\"pos\" : 0,\"compound\" : 0}\n",
    "    \n",
    "    for sentence in sentences:\n",
    "        \n",
    "        ss = sia.polarity_scores(sentence)\n",
    "        \n",
    "        for k in sorted(ss):\n",
    "            scores[k] += ss[k]\n",
    "    #print('{0}: {1}, '.format(k, ss[k]), end='')\n",
    "    for j in sorted(scores):\n",
    "        scores[j] = round((scores[j]/n),3)\n",
    "    \n",
    "    return(scores)"
   ]
  },
  {
   "cell_type": "code",
   "execution_count": 12,
   "metadata": {
    "collapsed": false
   },
   "outputs": [],
   "source": [
    "some_sia = []\n",
    "\n",
    "some_sia.append(avg_polar_score(eap.text.as_matrix(),SentimentIntensityAnalyzer()))\n",
    "some_sia.append(avg_polar_score(hpl.text.as_matrix(),SentimentIntensityAnalyzer()))\n",
    "some_sia.append(avg_polar_score(mws.text.as_matrix(),SentimentIntensityAnalyzer()))"
   ]
  },
  {
   "cell_type": "code",
   "execution_count": 26,
   "metadata": {
    "collapsed": false
   },
   "outputs": [
    {
     "name": "stdout",
     "output_type": "stream",
     "text": [
      "Edgar Allen Poe\n",
      "compound: 0.042, neg: 0.074, neu: 0.84, pos: 0.086, \n",
      "\n",
      "H.P. Lovecraft\n",
      "compound: -0.068, neg: 0.092, neu: 0.838, pos: 0.071, \n",
      "\n",
      "Mary Wolstencraft Shelly\n",
      "compound: 0.063, neg: 0.104, neu: 0.77, pos: 0.126, \n",
      "\n"
     ]
    }
   ],
   "source": [
    "author_names = ['Edgar Allen Poe','H.P. Lovecraft','Mary Wolstencraft Shelly']\n",
    "i = 0\n",
    "for dic in some_sia:\n",
    "    print(author_names[i])\n",
    "    i += 1\n",
    "    for k in sorted(dic):\n",
    "        print('{0}: {1}, '.format(k, dic[k]), end='')\n",
    "    print('\\n')"
   ]
  },
  {
   "cell_type": "code",
   "execution_count": 34,
   "metadata": {
    "collapsed": false
   },
   "outputs": [
    {
     "data": {
      "image/png": "[encoded data removed]",
      "text/plain": [
       "<matplotlib.figure.Figure at 0x19781d76748>"
      ]
     },
     "metadata": {},
     "output_type": "display_data"
    }
   ],
   "source": [
    "plt.figure(1)\n",
    "\n",
    "plt.subplot(131)\n",
    "sents = ['neg', 'neu', 'pos']\n",
    "y_pos = np.arange(len(sents))\n",
    "sent_scores = [.074, .84, .086]\n",
    "\n",
    "plt.ylim(0,.9)\n",
    "plt.bar(y_pos, sent_scores, align='center', alpha=1)\n",
    "plt.xticks(y_pos, sents)\n",
    "plt.xlabel('Sentiments')\n",
    "plt.title('EAP Sent Scores')\n",
    "\n",
    "plt.subplot(132)\n",
    "sents = ['neg', 'neu', 'pos']\n",
    "y_pos = np.arange(len(sents))\n",
    "sent_scores = [.092, .838, .071]\n",
    "\n",
    "plt.ylim(0,.9)\n",
    "plt.bar(y_pos, sent_scores, align='center', alpha=1)\n",
    "plt.xticks(y_pos, sents)\n",
    "plt.xlabel('Sentiments')\n",
    "plt.title('HPL Sent Scores')\n",
    "\n",
    "plt.subplot(133)\n",
    "sents = ['neg', 'neu', 'pos']\n",
    "y_pos = np.arange(len(sents))\n",
    "sent_scores = [.104, .77, .126]\n",
    "\n",
    "plt.ylim(0,.9)\n",
    "plt.bar(y_pos, sent_scores, align='center', alpha=1)\n",
    "plt.xticks(y_pos, sents)\n",
    "plt.xlabel('Sentiments')\n",
    "plt.title('MWS Sent Scores')\n",
    "\n",
    "plt.show()"
   ]
  },
  {
   "cell_type": "markdown",
   "metadata": {},
   "source": [
    "## Topic Modeling"
   ]
  },
  {
   "cell_type": "code",
   "execution_count": 14,
   "metadata": {
    "collapsed": false
   },
   "outputs": [],
   "source": [
    "#topic modeling code inspired by https://medium.com/mlreview/topic-modeling-with-scikit-learn-e80d33668730\n",
    "#the idea to compare lda and nmf was blantantly borrowed from the above post\n",
    "\n",
    "#intialize the vectorizers\n",
    "#this one is for lda\n",
    "tf_vectorizer = CountVectorizer(max_df=0.95, min_df=2, max_features=1000, stop_words='english')\n",
    "#below for nmf\n",
    "tfidf_vectorizer = TfidfVectorizer(max_df=0.95, min_df=2, max_features=1000, stop_words='english')"
   ]
  },
  {
   "cell_type": "code",
   "execution_count": 15,
   "metadata": {
    "collapsed": true
   },
   "outputs": [],
   "source": [
    "#clean data for nmf\n",
    "tfidf_eap = tfidf_vectorizer.fit_transform(eap.text)\n",
    "tfidf_feature_names_eap = tfidf_vectorizer.get_feature_names()\n",
    "\n",
    "tfidf_hpl = tfidf_vectorizer.fit_transform(hpl.text)\n",
    "tfidf_feature_names_hpl = tfidf_vectorizer.get_feature_names()\n",
    "\n",
    "tfidf_mws = tfidf_vectorizer.fit_transform(mws.text)\n",
    "tfidf_feature_names_mws = tfidf_vectorizer.get_feature_names()"
   ]
  },
  {
   "cell_type": "code",
   "execution_count": 16,
   "metadata": {
    "collapsed": true
   },
   "outputs": [],
   "source": [
    "#clean data for lda\n",
    "sent_clean = [[],[],[]]\n",
    "feature_names = [[],[],[]]\n",
    "t = 0\n",
    "for series in [eap.text,hpl.text,mws.text]:\n",
    "    tf = tf_vectorizer.fit_transform(series)\n",
    "    tf_feature_names = tf_vectorizer.get_feature_names()\n",
    "    \n",
    "    sent_clean[t] = tf\n",
    "    feature_names[t] = tf_feature_names\n",
    "    t = t + 1"
   ]
  },
  {
   "cell_type": "code",
   "execution_count": 17,
   "metadata": {
    "collapsed": true
   },
   "outputs": [],
   "source": [
    "#this is just for remebering where each author's senetecnes are\n",
    "eap_clean = sent_clean[0]\n",
    "hpl_clean = sent_clean[1]\n",
    "mws_clean = sent_clean[2]"
   ]
  },
  {
   "cell_type": "markdown",
   "metadata": {},
   "source": [
    "Some experimentation showed that 15 topics gave some plausible and helful results"
   ]
  },
  {
   "cell_type": "code",
   "execution_count": 18,
   "metadata": {
    "collapsed": false
   },
   "outputs": [],
   "source": [
    "n_top = 15"
   ]
  },
  {
   "cell_type": "code",
   "execution_count": 19,
   "metadata": {
    "collapsed": false
   },
   "outputs": [],
   "source": [
    "#Run lda for all the authors\n",
    "lda_eap = LatentDirichletAllocation(n_topics=n_top, max_iter=5, learning_method='online',learning_offset=50.,random_state=0).fit(eap_clean)\n",
    "\n",
    "lda_hpl = LatentDirichletAllocation(n_topics=n_top, max_iter=5, learning_method='online',learning_offset=50.,random_state=0).fit(hpl_clean)\n",
    "\n",
    "lda_mws = LatentDirichletAllocation(n_topics=n_top, max_iter=5, learning_method='online',learning_offset=50.,random_state=0).fit(mws_clean)"
   ]
  },
  {
   "cell_type": "code",
   "execution_count": 20,
   "metadata": {
    "collapsed": false
   },
   "outputs": [],
   "source": [
    "#Run nmf for all authors\n",
    "nmf_eap = NMF(n_components=n_top, random_state=1, alpha=.1, l1_ratio=.5, init='nndsvd').fit(tfidf_eap)\n",
    "\n",
    "nmf_hpl = NMF(n_components=n_top, random_state=1, alpha=.1, l1_ratio=.5, init='nndsvd').fit(tfidf_hpl)\n",
    "\n",
    "nmf_mws = NMF(n_components=n_top, random_state=1, alpha=.1, l1_ratio=.5, init='nndsvd').fit(tfidf_mws)"
   ]
  },
  {
   "cell_type": "code",
   "execution_count": 21,
   "metadata": {
    "collapsed": false
   },
   "outputs": [],
   "source": [
    "#this cell from https://medium.com/mlreview/topic-modeling-with-scikit-learn-e80d33668730\n",
    "def display_topics(model, feature_names, no_top_words):\n",
    "    for topic_idx, topic in enumerate(model.components_):\n",
    "        print(\"%d:\" % (topic_idx))\n",
    "        s = ' '\n",
    "        print(s.join([feature_names[i] for i in topic.argsort()[:-no_top_words - 1:-1]]))"
   ]
  },
  {
   "cell_type": "code",
   "execution_count": 27,
   "metadata": {
    "collapsed": false
   },
   "outputs": [
    {
     "name": "stdout",
     "output_type": "stream",
     "text": [
      "0:\n",
      "light strength thought wish lived power stood\n",
      "1:\n",
      "man soon great length high desire danger\n",
      "2:\n",
      "life death time men father gave look\n",
      "3:\n",
      "day let know sun present happy hear\n",
      "4:\n",
      "raymond perdita eyes make entered tears rose\n",
      "5:\n",
      "love old hope long voice despair man\n",
      "6:\n",
      "air sea happiness country hand england thoughts\n",
      "7:\n",
      "said world friend adrian mother good sister\n",
      "8:\n",
      "earth nature felt near friends die place\n",
      "9:\n",
      "change looked fear years lovely spoke evil\n",
      "10:\n",
      "house began thy went filled door thou\n",
      "11:\n",
      "night saw return appeared elizabeth heard strange\n",
      "12:\n",
      "mind did passed feelings life days misery\n",
      "13:\n",
      "father come end little left cried led\n",
      "14:\n",
      "shall heart words feel soul human joy\n"
     ]
    }
   ],
   "source": [
    "display_topics(lda_mws,feature_names[2],7)"
   ]
  },
  {
   "cell_type": "code",
   "execution_count": 28,
   "metadata": {
    "collapsed": false
   },
   "outputs": [
    {
     "name": "stdout",
     "output_type": "stream",
     "text": [
      "0:\n",
      "eyes father saw like tears thought mind\n",
      "1:\n",
      "raymond lord replied secret lost room gave\n",
      "2:\n",
      "love let sympathy gratitude affection greece gentle\n",
      "3:\n",
      "did appear understand come know return pass\n",
      "4:\n",
      "life existence alas hope lost new feeling\n",
      "5:\n",
      "said dear better present best friend companion\n",
      "6:\n",
      "day night passed sun following hour close\n",
      "7:\n",
      "man old world young nature earth creation\n",
      "8:\n",
      "shall true die know make appear feel\n",
      "9:\n",
      "time long mean spent short greece come\n",
      "10:\n",
      "perdita mentioned evadne child length joined account\n",
      "11:\n",
      "adrian idris promised visit sister health feared\n",
      "12:\n",
      "heart remorse soul fear grief despair filled\n",
      "13:\n",
      "years passed age nearly old lived early\n",
      "14:\n",
      "death fear disease words dead oh evil\n"
     ]
    }
   ],
   "source": [
    "display_topics(nmf_mws,tfidf_feature_names_mws,7)"
   ]
  },
  {
   "cell_type": "code",
   "execution_count": null,
   "metadata": {
    "collapsed": true
   },
   "outputs": [],
   "source": []
  }
 ],
 "metadata": {
  "kernelspec": {
   "display_name": "Python 3",
   "language": "python",
   "name": "python3"
  },
  "language_info": {
   "codemirror_mode": {
    "name": "ipython",
    "version": 3
   },
   "file_extension": ".py",
   "mimetype": "text/x-python",
   "name": "python",
   "nbconvert_exporter": "python",
   "pygments_lexer": "ipython3",
   "version": "3.6.1"
  }
 },
 "nbformat": 4,
 "nbformat_minor": 2
}
